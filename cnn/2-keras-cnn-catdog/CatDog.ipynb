{
 "cells": [
  {
   "cell_type": "markdown",
   "metadata": {},
   "source": [
    "## Classification demo including training"
   ]
  },
  {
   "cell_type": "code",
   "execution_count": null,
   "metadata": {},
   "outputs": [],
   "source": []
  },
  {
   "cell_type": "code",
   "execution_count": 1,
   "metadata": {},
   "outputs": [
    {
     "name": "stderr",
     "output_type": "stream",
     "text": [
      "Using TensorFlow backend.\n"
     ]
    }
   ],
   "source": [
    "##Import libraries\n",
    "from keras.models import Sequential\n",
    "from keras.layers import Conv2D\n",
    "from keras.layers import MaxPooling2D\n",
    "from keras.layers import Flatten\n",
    "from keras.layers import Dense"
   ]
  },
  {
   "cell_type": "code",
   "execution_count": 2,
   "metadata": {},
   "outputs": [],
   "source": [
    "## Initialising the CNN\n",
    "classifier = Sequential()"
   ]
  },
  {
   "cell_type": "code",
   "execution_count": 3,
   "metadata": {},
   "outputs": [
    {
     "name": "stdout",
     "output_type": "stream",
     "text": [
      "WARNING:tensorflow:From C:\\Users\\Administrator\\Anaconda3\\envs\\tf1\\lib\\site-packages\\tensorflow_core\\python\\ops\\resource_variable_ops.py:1630: calling BaseResourceVariable.__init__ (from tensorflow.python.ops.resource_variable_ops) with constraint is deprecated and will be removed in a future version.\n",
      "Instructions for updating:\n",
      "If using Keras pass *_constraint arguments to layers.\n",
      "WARNING:tensorflow:From C:\\Users\\Administrator\\Anaconda3\\envs\\tf1\\lib\\site-packages\\keras\\backend\\tensorflow_backend.py:4070: The name tf.nn.max_pool is deprecated. Please use tf.nn.max_pool2d instead.\n",
      "\n"
     ]
    }
   ],
   "source": [
    "## Convolution(64 feature detector of dimension 3 by 3), input shape 3 layer for color image)\n",
    "classifier.add(Conv2D(64,(3,3),input_shape = (64,64,3), activation = 'relu'))\n",
    "## MaxPooling\n",
    "classifier.add(MaxPooling2D(pool_size = (2,2)))\n",
    "\n",
    "## Add another layer\n",
    "classifier.add(Conv2D(64,(3,3), activation = 'relu'))\n",
    "classifier.add(MaxPooling2D(pool_size = (2,2)))\n",
    "\n",
    "## Add another layer\n",
    "classifier.add(Conv2D(64,(3,3), activation = 'relu'))\n",
    "classifier.add(MaxPooling2D(pool_size = (2,2)))\n"
   ]
  },
  {
   "cell_type": "code",
   "execution_count": 4,
   "metadata": {},
   "outputs": [],
   "source": [
    "## Flattening\n",
    "classifier.add(Flatten())"
   ]
  },
  {
   "cell_type": "code",
   "execution_count": 5,
   "metadata": {},
   "outputs": [],
   "source": [
    "## Fully connected ANN, Hidden ANN and output layer\n",
    "classifier.add(Dense(units = 128, activation = 'relu'))\n"
   ]
  },
  {
   "cell_type": "code",
   "execution_count": 6,
   "metadata": {},
   "outputs": [],
   "source": [
    "#output layer\n",
    "classifier.add(Dense(units = 1, activation = 'sigmoid'))"
   ]
  },
  {
   "cell_type": "code",
   "execution_count": 7,
   "metadata": {},
   "outputs": [
    {
     "name": "stdout",
     "output_type": "stream",
     "text": [
      "WARNING:tensorflow:From C:\\Users\\Administrator\\Anaconda3\\envs\\tf1\\lib\\site-packages\\tensorflow_core\\python\\ops\\nn_impl.py:183: where (from tensorflow.python.ops.array_ops) is deprecated and will be removed in a future version.\n",
      "Instructions for updating:\n",
      "Use tf.where in 2.0, which has the same broadcast rule as np.where\n"
     ]
    }
   ],
   "source": [
    "## Compliling\n",
    "classifier.compile(optimizer = 'adam', loss = 'binary_crossentropy', metrics = ['accuracy'])"
   ]
  },
  {
   "cell_type": "code",
   "execution_count": 6,
   "metadata": {},
   "outputs": [
    {
     "data": {
      "text/plain": [
       "36928"
      ]
     },
     "execution_count": 6,
     "metadata": {},
     "output_type": "execute_result"
    }
   ],
   "source": [
    "# ip - 64 , 64 , 3 \n",
    "\n",
    "# 1st - 3*3*64*3 + 64\n",
    "\n",
    "# 2nd - 3*3*64*64 + 64"
   ]
  },
  {
   "cell_type": "code",
   "execution_count": 8,
   "metadata": {},
   "outputs": [
    {
     "name": "stdout",
     "output_type": "stream",
     "text": [
      "Model: \"sequential_1\"\n",
      "_________________________________________________________________\n",
      "Layer (type)                 Output Shape              Param #   \n",
      "=================================================================\n",
      "conv2d_1 (Conv2D)            (None, 62, 62, 64)        1792      \n",
      "_________________________________________________________________\n",
      "max_pooling2d_1 (MaxPooling2 (None, 31, 31, 64)        0         \n",
      "_________________________________________________________________\n",
      "conv2d_2 (Conv2D)            (None, 29, 29, 64)        36928     \n",
      "_________________________________________________________________\n",
      "max_pooling2d_2 (MaxPooling2 (None, 14, 14, 64)        0         \n",
      "_________________________________________________________________\n",
      "conv2d_3 (Conv2D)            (None, 12, 12, 64)        36928     \n",
      "_________________________________________________________________\n",
      "max_pooling2d_3 (MaxPooling2 (None, 6, 6, 64)          0         \n",
      "_________________________________________________________________\n",
      "flatten_1 (Flatten)          (None, 2304)              0         \n",
      "_________________________________________________________________\n",
      "dense_1 (Dense)              (None, 128)               295040    \n",
      "_________________________________________________________________\n",
      "dense_2 (Dense)              (None, 1)                 129       \n",
      "=================================================================\n",
      "Total params: 370,817\n",
      "Trainable params: 370,817\n",
      "Non-trainable params: 0\n",
      "_________________________________________________________________\n"
     ]
    }
   ],
   "source": [
    "classifier.summary()"
   ]
  },
  {
   "cell_type": "markdown",
   "metadata": {},
   "source": [
    "## data importing and transforming and scaling\n",
    "from keras.preprocessing.image import ImageDataGenerator\n",
    "train_datagen = ImageDataGenerator(\n",
    "        rescale=1./255,\n",
    "        shear_range=0.2,\n",
    "        zoom_range=0.2,\n",
    "        horizontal_flip=True)"
   ]
  },
  {
   "cell_type": "code",
   "execution_count": 69,
   "metadata": {},
   "outputs": [],
   "source": [
    "## data importing and transforming and scaling\n",
    "from keras.preprocessing.image import ImageDataGenerator\n",
    "# train_datagen = ImageDataGenerator(rescale=1./255)  \n",
    "\n",
    "train_datagen = ImageDataGenerator(rescale=1./255 , shear_range = 0.2 , zoom_range = 0.2 , horizontal_flip = True )"
   ]
  },
  {
   "cell_type": "code",
   "execution_count": 70,
   "metadata": {},
   "outputs": [],
   "source": [
    "## Scaling test data\n",
    "##no  data augmentation\n",
    "test_datagen = ImageDataGenerator(rescale=1./255)"
   ]
  },
  {
   "cell_type": "code",
   "execution_count": 71,
   "metadata": {},
   "outputs": [
    {
     "name": "stdout",
     "output_type": "stream",
     "text": [
      "Found 98 images belonging to 2 classes.\n"
     ]
    }
   ],
   "source": [
    "## Importing training data\n",
    "train_set = train_datagen.flow_from_directory('dataset\\\\training_set',\n",
    "                                               target_size=(64, 64),\n",
    "                                               \n",
    "                                               class_mode='binary')"
   ]
  },
  {
   "cell_type": "code",
   "execution_count": 72,
   "metadata": {},
   "outputs": [
    {
     "data": {
      "text/plain": [
       "{'cats': 0, 'dogs': 1}"
      ]
     },
     "execution_count": 72,
     "metadata": {},
     "output_type": "execute_result"
    }
   ],
   "source": [
    "train_set.class_indices      # Alphabetical order number is assigned"
   ]
  },
  {
   "cell_type": "code",
   "execution_count": 73,
   "metadata": {},
   "outputs": [
    {
     "name": "stdout",
     "output_type": "stream",
     "text": [
      "{'cats': 0, 'dogs': 1}\n"
     ]
    }
   ],
   "source": [
    "#which is cat which is dog?\n",
    "label_map = (train_set.class_indices)\n",
    "print(label_map)"
   ]
  },
  {
   "cell_type": "code",
   "execution_count": 74,
   "metadata": {},
   "outputs": [
    {
     "name": "stdout",
     "output_type": "stream",
     "text": [
      "Found 38 images belonging to 2 classes.\n"
     ]
    }
   ],
   "source": [
    "## Importng test data\n",
    "test_set = test_datagen.flow_from_directory('dataset\\\\test_set',\n",
    "                                            target_size=(64, 64),\n",
    "                                            \n",
    "                                            class_mode='binary')"
   ]
  },
  {
   "cell_type": "code",
   "execution_count": 75,
   "metadata": {},
   "outputs": [],
   "source": [
    "# pip install pillow"
   ]
  },
  {
   "cell_type": "code",
   "execution_count": 76,
   "metadata": {},
   "outputs": [
    {
     "name": "stdout",
     "output_type": "stream",
     "text": [
      "Epoch 1/40\n",
      "4/4 [==============================] - 2s 518ms/step - loss: 0.6516 - accuracy: 0.7857 - val_loss: 0.5110 - val_accuracy: 0.5789\n",
      "Epoch 2/40\n",
      "4/4 [==============================] - 1s 299ms/step - loss: 0.6255 - accuracy: 0.7857 - val_loss: 1.1579 - val_accuracy: 0.6316\n",
      "Epoch 3/40\n",
      "4/4 [==============================] - 1s 321ms/step - loss: 0.3506 - accuracy: 0.8265 - val_loss: 0.8933 - val_accuracy: 0.6053\n",
      "Epoch 4/40\n",
      "4/4 [==============================] - 1s 288ms/step - loss: 0.7458 - accuracy: 0.7857 - val_loss: 0.6084 - val_accuracy: 0.5526\n",
      "Epoch 5/40\n",
      "4/4 [==============================] - 1s 347ms/step - loss: 0.5591 - accuracy: 0.5918 - val_loss: 0.7214 - val_accuracy: 0.6316\n",
      "Epoch 6/40\n",
      "4/4 [==============================] - 1s 327ms/step - loss: 0.5371 - accuracy: 0.7755 - val_loss: 0.6257 - val_accuracy: 0.7105\n",
      "Epoch 7/40\n",
      "4/4 [==============================] - 1s 265ms/step - loss: 0.6727 - accuracy: 0.7653 - val_loss: 0.7213 - val_accuracy: 0.7105\n",
      "Epoch 8/40\n",
      "4/4 [==============================] - 1s 325ms/step - loss: 0.5399 - accuracy: 0.7347 - val_loss: 0.6694 - val_accuracy: 0.6316\n",
      "Epoch 9/40\n",
      "4/4 [==============================] - 1s 344ms/step - loss: 0.5248 - accuracy: 0.6429 - val_loss: 0.7124 - val_accuracy: 0.5789\n",
      "Epoch 10/40\n",
      "4/4 [==============================] - 1s 292ms/step - loss: 0.4388 - accuracy: 0.6837 - val_loss: 0.5182 - val_accuracy: 0.7105\n",
      "Epoch 11/40\n",
      "4/4 [==============================] - 1s 319ms/step - loss: 0.4418 - accuracy: 0.8367 - val_loss: 0.6996 - val_accuracy: 0.6842\n",
      "Epoch 12/40\n",
      "4/4 [==============================] - 1s 293ms/step - loss: 0.3251 - accuracy: 0.8061 - val_loss: 1.7587 - val_accuracy: 0.6579\n",
      "Epoch 13/40\n",
      "4/4 [==============================] - 1s 332ms/step - loss: 0.3581 - accuracy: 0.8061 - val_loss: 0.7954 - val_accuracy: 0.5000\n",
      "Epoch 14/40\n",
      "4/4 [==============================] - 1s 339ms/step - loss: 0.3822 - accuracy: 0.8163 - val_loss: 1.7406 - val_accuracy: 0.6316\n",
      "Epoch 15/40\n",
      "4/4 [==============================] - 1s 300ms/step - loss: 0.3164 - accuracy: 0.7857 - val_loss: 2.1557 - val_accuracy: 0.6842\n",
      "Epoch 16/40\n",
      "4/4 [==============================] - 1s 288ms/step - loss: 0.3677 - accuracy: 0.8061 - val_loss: 0.9169 - val_accuracy: 0.6842\n",
      "Epoch 17/40\n",
      "4/4 [==============================] - 1s 319ms/step - loss: 0.3592 - accuracy: 0.8571 - val_loss: 0.5350 - val_accuracy: 0.5526\n",
      "Epoch 18/40\n",
      "4/4 [==============================] - 1s 325ms/step - loss: 0.2707 - accuracy: 0.9082 - val_loss: 0.3100 - val_accuracy: 0.6053\n",
      "Epoch 19/40\n",
      "4/4 [==============================] - 1s 347ms/step - loss: 0.3315 - accuracy: 0.9082 - val_loss: 0.3056 - val_accuracy: 0.5526\n",
      "Epoch 20/40\n",
      "4/4 [==============================] - 1s 291ms/step - loss: 0.2202 - accuracy: 0.8878 - val_loss: 0.8633 - val_accuracy: 0.6579\n",
      "Epoch 21/40\n",
      "4/4 [==============================] - 1s 312ms/step - loss: 0.2298 - accuracy: 0.9286 - val_loss: 1.4863 - val_accuracy: 0.6316\n",
      "Epoch 22/40\n",
      "4/4 [==============================] - 1s 293ms/step - loss: 0.1937 - accuracy: 0.9184 - val_loss: 2.2550 - val_accuracy: 0.6579\n",
      "Epoch 23/40\n",
      "4/4 [==============================] - 1s 279ms/step - loss: 0.1585 - accuracy: 0.9388 - val_loss: 0.5513 - val_accuracy: 0.6316\n",
      "Epoch 24/40\n",
      "4/4 [==============================] - 1s 313ms/step - loss: 0.1852 - accuracy: 0.8980 - val_loss: 0.7306 - val_accuracy: 0.6053\n",
      "Epoch 25/40\n",
      "4/4 [==============================] - 1s 296ms/step - loss: 0.1696 - accuracy: 0.9082 - val_loss: 0.9850 - val_accuracy: 0.6316\n",
      "Epoch 26/40\n",
      "4/4 [==============================] - 1s 321ms/step - loss: 0.1806 - accuracy: 0.9286 - val_loss: 0.8303 - val_accuracy: 0.5526\n",
      "Epoch 27/40\n",
      "4/4 [==============================] - 1s 314ms/step - loss: 0.2620 - accuracy: 0.8571 - val_loss: 0.3050 - val_accuracy: 0.6053\n",
      "Epoch 28/40\n",
      "4/4 [==============================] - 1s 265ms/step - loss: 0.1718 - accuracy: 0.9082 - val_loss: 2.6926 - val_accuracy: 0.6053\n",
      "Epoch 29/40\n",
      "4/4 [==============================] - 1s 292ms/step - loss: 0.1667 - accuracy: 0.9286 - val_loss: 2.4619 - val_accuracy: 0.5789\n",
      "Epoch 30/40\n",
      "4/4 [==============================] - 1s 263ms/step - loss: 0.3348 - accuracy: 0.9184 - val_loss: 2.6259 - val_accuracy: 0.6053\n",
      "Epoch 31/40\n",
      "4/4 [==============================] - 1s 309ms/step - loss: 0.2445 - accuracy: 0.8265 - val_loss: 0.3457 - val_accuracy: 0.6579\n",
      "Epoch 32/40\n",
      "4/4 [==============================] - 1s 262ms/step - loss: 0.3221 - accuracy: 0.8673 - val_loss: 1.7233 - val_accuracy: 0.5526\n",
      "Epoch 33/40\n",
      "4/4 [==============================] - 1s 254ms/step - loss: 0.2334 - accuracy: 0.8878 - val_loss: 2.8740 - val_accuracy: 0.6053\n",
      "Epoch 34/40\n",
      "4/4 [==============================] - 1s 320ms/step - loss: 0.1693 - accuracy: 0.8980 - val_loss: 1.2942 - val_accuracy: 0.5526\n",
      "Epoch 35/40\n",
      "4/4 [==============================] - 1s 277ms/step - loss: 0.2055 - accuracy: 0.8980 - val_loss: 0.6677 - val_accuracy: 0.6316\n",
      "Epoch 36/40\n",
      "4/4 [==============================] - 1s 282ms/step - loss: 0.4269 - accuracy: 0.7857 - val_loss: 2.3343 - val_accuracy: 0.5789\n",
      "Epoch 37/40\n",
      "4/4 [==============================] - 1s 272ms/step - loss: 0.3109 - accuracy: 0.8571 - val_loss: 1.6822 - val_accuracy: 0.5789\n",
      "Epoch 38/40\n",
      "4/4 [==============================] - 1s 330ms/step - loss: 0.2460 - accuracy: 0.9082 - val_loss: 0.9746 - val_accuracy: 0.5526\n",
      "Epoch 39/40\n",
      "4/4 [==============================] - 1s 298ms/step - loss: 0.2648 - accuracy: 0.9286 - val_loss: 0.5830 - val_accuracy: 0.5789\n",
      "Epoch 40/40\n",
      "4/4 [==============================] - 1s 257ms/step - loss: 0.2202 - accuracy: 0.9082 - val_loss: 0.7492 - val_accuracy: 0.6579\n"
     ]
    },
    {
     "data": {
      "text/plain": [
       "<keras.callbacks.callbacks.History at 0x2065c312548>"
      ]
     },
     "execution_count": 76,
     "metadata": {},
     "output_type": "execute_result"
    }
   ],
   "source": [
    "## fitting model to images\n",
    "classifier.fit_generator(\n",
    "        train_set,\n",
    "        epochs=40,\n",
    "        validation_data=test_set\n",
    "        )"
   ]
  },
  {
   "cell_type": "markdown",
   "metadata": {},
   "source": [
    "## fitting model to images\n",
    "classifier.fit_generator(\n",
    "        train_set,\n",
    "        steps_per_epoch=50,\n",
    "        epochs=5,\n",
    "        validation_data=test_set,\n",
    "        validation_steps=38)"
   ]
  },
  {
   "cell_type": "code",
   "execution_count": 86,
   "metadata": {},
   "outputs": [],
   "source": [
    "## prediction of single new data\n",
    "import numpy as np\n",
    "from keras.preprocessing import image\n",
    "test_image= image.load_img('dataset\\\\single_prediction\\\\dog.jpg'\n",
    "                           ,target_size =(64,64))\n",
    "\n",
    "test_image1= image.load_img('dataset\\\\single_prediction\\\\dog1.jpg'\n",
    "                           ,target_size =(64,64))\n"
   ]
  },
  {
   "cell_type": "code",
   "execution_count": 87,
   "metadata": {},
   "outputs": [
    {
     "data": {
      "image/png": "[encoded data removed]",
      "text/plain": [
       "<PIL.Image.Image image mode=RGB size=64x64 at 0x2065C300108>"
      ]
     },
     "execution_count": 87,
     "metadata": {},
     "output_type": "execute_result"
    }
   ],
   "source": [
    "test_image"
   ]
  },
  {
   "cell_type": "code",
   "execution_count": 88,
   "metadata": {},
   "outputs": [
    {
     "data": {
      "image/png": "[encoded data removed]",
      "text/plain": [
       "<PIL.Image.Image image mode=RGB size=64x64 at 0x2065C2F73C8>"
      ]
     },
     "execution_count": 88,
     "metadata": {},
     "output_type": "execute_result"
    }
   ],
   "source": [
    "test_image1"
   ]
  },
  {
   "cell_type": "code",
   "execution_count": 89,
   "metadata": {},
   "outputs": [
    {
     "name": "stdout",
     "output_type": "stream",
     "text": [
      "(64, 64, 3)\n",
      "(64, 64, 3)\n"
     ]
    }
   ],
   "source": [
    "## Convert image to array\n",
    "test_image = image.img_to_array(test_image)\n",
    "test_image1 = image.img_to_array(test_image1)\n",
    "print( test_image.shape )\n",
    "print( test_image1.shape )"
   ]
  },
  {
   "cell_type": "code",
   "execution_count": 90,
   "metadata": {},
   "outputs": [],
   "source": [
    "# test_image1"
   ]
  },
  {
   "cell_type": "code",
   "execution_count": 91,
   "metadata": {},
   "outputs": [],
   "source": [
    "## For single prediction change the dimension . \n",
    "\n",
    "test_image=test_image.reshape(1,64,64,3)"
   ]
  },
  {
   "cell_type": "code",
   "execution_count": 92,
   "metadata": {},
   "outputs": [
    {
     "data": {
      "text/plain": [
       "array([[1.]], dtype=float32)"
      ]
     },
     "execution_count": 92,
     "metadata": {},
     "output_type": "execute_result"
    }
   ],
   "source": [
    "result = classifier.predict(test_image)\n",
    "result"
   ]
  },
  {
   "cell_type": "code",
   "execution_count": 93,
   "metadata": {},
   "outputs": [],
   "source": [
    "## Class label of dog and cat\n",
    "\n",
    "if result == 1:\n",
    "    prediction = 'dog'\n",
    "else:\n",
    "    prediction = 'cat'\n",
    "    "
   ]
  },
  {
   "cell_type": "code",
   "execution_count": 94,
   "metadata": {},
   "outputs": [
    {
     "data": {
      "text/plain": [
       "'dog'"
      ]
     },
     "execution_count": 94,
     "metadata": {},
     "output_type": "execute_result"
    }
   ],
   "source": [
    "prediction"
   ]
  },
  {
   "cell_type": "code",
   "execution_count": null,
   "metadata": {},
   "outputs": [],
   "source": [
    "#steps_per_epoch=50"
   ]
  },
  {
   "cell_type": "code",
   "execution_count": 95,
   "metadata": {},
   "outputs": [],
   "source": [
    "# save mode"
   ]
  },
  {
   "cell_type": "code",
   "execution_count": 96,
   "metadata": {},
   "outputs": [
    {
     "name": "stdout",
     "output_type": "stream",
     "text": [
      "Saved model to disk \n"
     ]
    }
   ],
   "source": [
    "model_json = classifier.to_json()\n",
    "\n",
    "with open( 'model1.json' , 'w' ) as json_file :\n",
    "    json_file.write( model_json )\n",
    "    \n",
    "# serialize weight to HDF5\n",
    "\n",
    "classifier.save_weights( 'model1.h5' )\n",
    "\n",
    "print( \"Saved model to disk \")"
   ]
  },
  {
   "cell_type": "code",
   "execution_count": null,
   "metadata": {},
   "outputs": [],
   "source": [
    "{\"class_name\": \"Sequential\",\n",
    " \"config\": {\"name\": \"sequential_1\", \n",
    "            \"layers\": [{\"class_name\": \"Conv2D\", \"config\": {\"name\": \"conv2d_1\", \"trainable\": true, \"batch_input_shape\": [null, 64, 64, 3], \"dtype\": \"float32\", \"filters\": 64, \"kernel_size\": [3, 3], \"strides\": [1, 1], \"padding\": \"valid\", \"data_format\": \"channels_last\", \"dilation_rate\": [1, 1], \"activation\": \"relu\", \"use_bias\": true, \"kernel_initializer\": {\"class_name\": \"VarianceScaling\", \"config\": {\"scale\": 1.0, \"mode\": \"fan_avg\", \"distribution\": \"uniform\", \"seed\": null}}, \"bias_initializer\": {\"class_name\": \"Zeros\", \"config\": {}}, \"kernel_regularizer\": null, \"bias_regularizer\": null, \"activity_regularizer\": null, \"kernel_constraint\": null, \"bias_constraint\": null}}, {\"class_name\": \"MaxPooling2D\", \"config\": {\"name\": \"max_pooling2d_1\", \"trainable\": true, \"dtype\": \"float32\", \"pool_size\": [2, 2], \"padding\": \"valid\", \"strides\": [2, 2], \"data_format\": \"channels_last\"}}, {\"class_name\": \"Conv2D\", \"config\": {\"name\": \"conv2d_2\", \"trainable\": true, \"dtype\": \"float32\", \"filters\": 64, \"kernel_size\": [3, 3], \"strides\": [1, 1], \"padding\": \"valid\", \"data_format\": \"channels_last\", \"dilation_rate\": [1, 1], \"activation\": \"relu\", \"use_bias\": true, \"kernel_initializer\": {\"class_name\": \"VarianceScaling\", \"config\": {\"scale\": 1.0, \"mode\": \"fan_avg\", \"distribution\": \"uniform\", \"seed\": null}}, \"bias_initializer\": {\"class_name\": \"Zeros\", \"config\": {}}, \"kernel_regularizer\": null, \"bias_regularizer\": null, \"activity_regularizer\": null, \"kernel_constraint\": null, \"bias_constraint\": null}}, {\"class_name\": \"MaxPooling2D\", \"config\": {\"name\": \"max_pooling2d_2\", \"trainable\": true, \"dtype\": \"float32\", \"pool_size\": [2, 2], \"padding\": \"valid\", \"strides\": [2, 2], \"data_format\": \"channels_last\"}}, {\"class_name\": \"Conv2D\", \"config\": {\"name\": \"conv2d_3\", \"trainable\": true, \"dtype\": \"float32\", \"filters\": 64, \"kernel_size\": [3, 3], \"strides\": [1, 1], \"padding\": \"valid\", \"data_format\": \"channels_last\", \"dilation_rate\": [1, 1], \"activation\": \"relu\", \"use_bias\": true, \"kernel_initializer\": {\"class_name\": \"VarianceScaling\", \"config\": {\"scale\": 1.0, \"mode\": \"fan_avg\", \"distribution\": \"uniform\", \"seed\": null}}, \"bias_initializer\": {\"class_name\": \"Zeros\", \"config\": {}}, \"kernel_regularizer\": null, \"bias_regularizer\": null, \"activity_regularizer\": null, \"kernel_constraint\": null, \"bias_constraint\": null}}, {\"class_name\": \"MaxPooling2D\", \"config\": {\"name\": \"max_pooling2d_3\", \"trainable\": true, \"dtype\": \"float32\", \"pool_size\": [2, 2], \"padding\": \"valid\", \"strides\": [2, 2], \"data_format\": \"channels_last\"}}, {\"class_name\": \"Flatten\", \"config\": {\"name\": \"flatten_1\", \"trainable\": true, \"dtype\": \"float32\", \"data_format\": \"channels_last\"}}, {\"class_name\": \"Dense\", \"config\": {\"name\": \"dense_1\", \"trainable\": true, \"dtype\": \"float32\", \"units\": 128, \"activation\": \"relu\", \"use_bias\": true, \"kernel_initializer\": {\"class_name\": \"VarianceScaling\", \"config\": {\"scale\": 1.0, \"mode\": \"fan_avg\", \"distribution\": \"uniform\", \"seed\": null}}, \"bias_initializer\": {\"class_name\": \"Zeros\", \"config\": {}}, \"kernel_regularizer\": null, \"bias_regularizer\": null, \"activity_regularizer\": null, \"kernel_constraint\": null, \"bias_constraint\": null}}, {\"class_name\": \"Dense\", \"config\": {\"name\": \"dense_2\", \"trainable\": true, \"dtype\": \"float32\", \"units\": 1, \"activation\": \"sigmoid\", \"use_bias\": true, \"kernel_initializer\": {\"class_name\": \"VarianceScaling\", \"config\": {\"scale\": 1.0, \"mode\": \"fan_avg\", \"distribution\": \"uniform\", \"seed\": null}}, \"bias_initializer\": {\"class_name\": \"Zeros\", \"config\": {}}, \"kernel_regularizer\": null, \"bias_regularizer\": null, \"activity_regularizer\": null, \"kernel_constraint\": null, \"bias_constraint\": null}}]}, \"keras_version\": \"2.3.1\", \"backend\": \"tensorflow\"}"
   ]
  }
 ],
 "metadata": {
  "kernelspec": {
   "display_name": "Python 3",
   "language": "python",
   "name": "python3"
  },
  "language_info": {
   "codemirror_mode": {
    "name": "ipython",
    "version": 3
   },
   "file_extension": ".py",
   "mimetype": "text/x-python",
   "name": "python",
   "nbconvert_exporter": "python",
   "pygments_lexer": "ipython3",
   "version": "3.7.6"
  }
 },
 "nbformat": 4,
 "nbformat_minor": 2
}
