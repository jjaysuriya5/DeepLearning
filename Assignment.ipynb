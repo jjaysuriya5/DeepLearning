{
 "cells": [
  {
   "cell_type": "code",
   "execution_count": 1,
   "metadata": {},
   "outputs": [
    {
     "name": "stderr",
     "output_type": "stream",
     "text": [
      "Using TensorFlow backend.\n"
     ]
    }
   ],
   "source": [
    "import pandas as pd\n",
    "import numpy as np\n",
    "\n",
    "import tensorflow as tf\n",
    "\n",
    "from keras.models import Sequential\n",
    "from keras.layers import Flatten\n",
    "from keras.layers import Dense"
   ]
  },
  {
   "cell_type": "code",
   "execution_count": 2,
   "metadata": {},
   "outputs": [],
   "source": [
    "data = pd.read_csv( 'C:\\\\Users\\\\Administrator\\\\Desktop\\\\Python\\\\AI\\\\Day 3\\\\sonar.csv' )"
   ]
  },
  {
   "cell_type": "code",
   "execution_count": 3,
   "metadata": {},
   "outputs": [
    {
     "data": {
      "text/plain": [
       "(208, 61)"
      ]
     },
     "execution_count": 3,
     "metadata": {},
     "output_type": "execute_result"
    }
   ],
   "source": [
    "data.shape"
   ]
  },
  {
   "cell_type": "code",
   "execution_count": 4,
   "metadata": {},
   "outputs": [
    {
     "data": {
      "text/html": [
       "<div>\n",
       "<style scoped>\n",
       "    .dataframe tbody tr th:only-of-type {\n",
       "        vertical-align: middle;\n",
       "    }\n",
       "\n",
       "    .dataframe tbody tr th {\n",
       "        vertical-align: top;\n",
       "    }\n",
       "\n",
       "    .dataframe thead th {\n",
       "        text-align: right;\n",
       "    }\n",
       "</style>\n",
       "<table border=\"1\" class=\"dataframe\">\n",
       "  <thead>\n",
       "    <tr style=\"text-align: right;\">\n",
       "      <th></th>\n",
       "      <th>attribute_1</th>\n",
       "      <th>attribute_2</th>\n",
       "      <th>attribute_3</th>\n",
       "      <th>attribute_4</th>\n",
       "      <th>attribute_5</th>\n",
       "      <th>attribute_6</th>\n",
       "      <th>attribute_7</th>\n",
       "      <th>attribute_8</th>\n",
       "      <th>attribute_9</th>\n",
       "      <th>attribute_10</th>\n",
       "      <th>...</th>\n",
       "      <th>attribute_52</th>\n",
       "      <th>attribute_53</th>\n",
       "      <th>attribute_54</th>\n",
       "      <th>attribute_55</th>\n",
       "      <th>attribute_56</th>\n",
       "      <th>attribute_57</th>\n",
       "      <th>attribute_58</th>\n",
       "      <th>attribute_59</th>\n",
       "      <th>attribute_60</th>\n",
       "      <th>Class</th>\n",
       "    </tr>\n",
       "  </thead>\n",
       "  <tbody>\n",
       "    <tr>\n",
       "      <th>0</th>\n",
       "      <td>0.0200</td>\n",
       "      <td>0.0371</td>\n",
       "      <td>0.0428</td>\n",
       "      <td>0.0207</td>\n",
       "      <td>0.0954</td>\n",
       "      <td>0.0986</td>\n",
       "      <td>0.1539</td>\n",
       "      <td>0.1601</td>\n",
       "      <td>0.3109</td>\n",
       "      <td>0.2111</td>\n",
       "      <td>...</td>\n",
       "      <td>0.0027</td>\n",
       "      <td>0.0065</td>\n",
       "      <td>0.0159</td>\n",
       "      <td>0.0072</td>\n",
       "      <td>0.0167</td>\n",
       "      <td>0.0180</td>\n",
       "      <td>0.0084</td>\n",
       "      <td>0.0090</td>\n",
       "      <td>0.0032</td>\n",
       "      <td>Rock</td>\n",
       "    </tr>\n",
       "    <tr>\n",
       "      <th>1</th>\n",
       "      <td>0.0453</td>\n",
       "      <td>0.0523</td>\n",
       "      <td>0.0843</td>\n",
       "      <td>0.0689</td>\n",
       "      <td>0.1183</td>\n",
       "      <td>0.2583</td>\n",
       "      <td>0.2156</td>\n",
       "      <td>0.3481</td>\n",
       "      <td>0.3337</td>\n",
       "      <td>0.2872</td>\n",
       "      <td>...</td>\n",
       "      <td>0.0084</td>\n",
       "      <td>0.0089</td>\n",
       "      <td>0.0048</td>\n",
       "      <td>0.0094</td>\n",
       "      <td>0.0191</td>\n",
       "      <td>0.0140</td>\n",
       "      <td>0.0049</td>\n",
       "      <td>0.0052</td>\n",
       "      <td>0.0044</td>\n",
       "      <td>Rock</td>\n",
       "    </tr>\n",
       "    <tr>\n",
       "      <th>2</th>\n",
       "      <td>0.0262</td>\n",
       "      <td>0.0582</td>\n",
       "      <td>0.1099</td>\n",
       "      <td>0.1083</td>\n",
       "      <td>0.0974</td>\n",
       "      <td>0.2280</td>\n",
       "      <td>0.2431</td>\n",
       "      <td>0.3771</td>\n",
       "      <td>0.5598</td>\n",
       "      <td>0.6194</td>\n",
       "      <td>...</td>\n",
       "      <td>0.0232</td>\n",
       "      <td>0.0166</td>\n",
       "      <td>0.0095</td>\n",
       "      <td>0.0180</td>\n",
       "      <td>0.0244</td>\n",
       "      <td>0.0316</td>\n",
       "      <td>0.0164</td>\n",
       "      <td>0.0095</td>\n",
       "      <td>0.0078</td>\n",
       "      <td>Rock</td>\n",
       "    </tr>\n",
       "    <tr>\n",
       "      <th>3</th>\n",
       "      <td>0.0100</td>\n",
       "      <td>0.0171</td>\n",
       "      <td>0.0623</td>\n",
       "      <td>0.0205</td>\n",
       "      <td>0.0205</td>\n",
       "      <td>0.0368</td>\n",
       "      <td>0.1098</td>\n",
       "      <td>0.1276</td>\n",
       "      <td>0.0598</td>\n",
       "      <td>0.1264</td>\n",
       "      <td>...</td>\n",
       "      <td>0.0121</td>\n",
       "      <td>0.0036</td>\n",
       "      <td>0.0150</td>\n",
       "      <td>0.0085</td>\n",
       "      <td>0.0073</td>\n",
       "      <td>0.0050</td>\n",
       "      <td>0.0044</td>\n",
       "      <td>0.0040</td>\n",
       "      <td>0.0117</td>\n",
       "      <td>Rock</td>\n",
       "    </tr>\n",
       "    <tr>\n",
       "      <th>4</th>\n",
       "      <td>0.0762</td>\n",
       "      <td>0.0666</td>\n",
       "      <td>0.0481</td>\n",
       "      <td>0.0394</td>\n",
       "      <td>0.0590</td>\n",
       "      <td>0.0649</td>\n",
       "      <td>0.1209</td>\n",
       "      <td>0.2467</td>\n",
       "      <td>0.3564</td>\n",
       "      <td>0.4459</td>\n",
       "      <td>...</td>\n",
       "      <td>0.0031</td>\n",
       "      <td>0.0054</td>\n",
       "      <td>0.0105</td>\n",
       "      <td>0.0110</td>\n",
       "      <td>0.0015</td>\n",
       "      <td>0.0072</td>\n",
       "      <td>0.0048</td>\n",
       "      <td>0.0107</td>\n",
       "      <td>0.0094</td>\n",
       "      <td>Rock</td>\n",
       "    </tr>\n",
       "  </tbody>\n",
       "</table>\n",
       "<p>5 rows × 61 columns</p>\n",
       "</div>"
      ],
      "text/plain": [
       "   attribute_1  attribute_2  attribute_3  attribute_4  attribute_5  \\\n",
       "0       0.0200       0.0371       0.0428       0.0207       0.0954   \n",
       "1       0.0453       0.0523       0.0843       0.0689       0.1183   \n",
       "2       0.0262       0.0582       0.1099       0.1083       0.0974   \n",
       "3       0.0100       0.0171       0.0623       0.0205       0.0205   \n",
       "4       0.0762       0.0666       0.0481       0.0394       0.0590   \n",
       "\n",
       "   attribute_6  attribute_7  attribute_8  attribute_9  attribute_10  ...  \\\n",
       "0       0.0986       0.1539       0.1601       0.3109        0.2111  ...   \n",
       "1       0.2583       0.2156       0.3481       0.3337        0.2872  ...   \n",
       "2       0.2280       0.2431       0.3771       0.5598        0.6194  ...   \n",
       "3       0.0368       0.1098       0.1276       0.0598        0.1264  ...   \n",
       "4       0.0649       0.1209       0.2467       0.3564        0.4459  ...   \n",
       "\n",
       "   attribute_52  attribute_53  attribute_54  attribute_55  attribute_56  \\\n",
       "0        0.0027        0.0065        0.0159        0.0072        0.0167   \n",
       "1        0.0084        0.0089        0.0048        0.0094        0.0191   \n",
       "2        0.0232        0.0166        0.0095        0.0180        0.0244   \n",
       "3        0.0121        0.0036        0.0150        0.0085        0.0073   \n",
       "4        0.0031        0.0054        0.0105        0.0110        0.0015   \n",
       "\n",
       "   attribute_57  attribute_58  attribute_59  attribute_60  Class  \n",
       "0        0.0180        0.0084        0.0090        0.0032   Rock  \n",
       "1        0.0140        0.0049        0.0052        0.0044   Rock  \n",
       "2        0.0316        0.0164        0.0095        0.0078   Rock  \n",
       "3        0.0050        0.0044        0.0040        0.0117   Rock  \n",
       "4        0.0072        0.0048        0.0107        0.0094   Rock  \n",
       "\n",
       "[5 rows x 61 columns]"
      ]
     },
     "execution_count": 4,
     "metadata": {},
     "output_type": "execute_result"
    }
   ],
   "source": [
    "data.head()"
   ]
  },
  {
   "cell_type": "code",
   "execution_count": 16,
   "metadata": {},
   "outputs": [
    {
     "name": "stdout",
     "output_type": "stream",
     "text": [
      "0.0127\n",
      "1.0\n"
     ]
    }
   ],
   "source": [
    "print(  max( data.T.describe().loc[ 'min' , : ] ) )\n",
    "print(  max( data.T.describe().loc[ 'max' , : ] ) )"
   ]
  },
  {
   "cell_type": "code",
   "execution_count": 6,
   "metadata": {},
   "outputs": [
    {
     "data": {
      "text/plain": [
       "array(['Rock', 'Mine'], dtype=object)"
      ]
     },
     "execution_count": 6,
     "metadata": {},
     "output_type": "execute_result"
    }
   ],
   "source": [
    "data['Class'].unique()"
   ]
  },
  {
   "cell_type": "code",
   "execution_count": 7,
   "metadata": {},
   "outputs": [],
   "source": [
    "map_dict = { 'Rock' : 0 , 'Mine' : 1 }\n",
    "\n",
    "data['Class'] = data['Class'].map( map_dict )"
   ]
  },
  {
   "cell_type": "code",
   "execution_count": 8,
   "metadata": {},
   "outputs": [
    {
     "data": {
      "text/plain": [
       "1    111\n",
       "0     97\n",
       "Name: Class, dtype: int64"
      ]
     },
     "execution_count": 8,
     "metadata": {},
     "output_type": "execute_result"
    }
   ],
   "source": [
    "data['Class'].value_counts()"
   ]
  },
  {
   "cell_type": "code",
   "execution_count": 55,
   "metadata": {},
   "outputs": [
    {
     "name": "stdout",
     "output_type": "stream",
     "text": [
      "1    84\n",
      "0    82\n",
      "Name: Class, dtype: int64\n",
      "1    27\n",
      "0    15\n",
      "Name: Class, dtype: int64\n"
     ]
    }
   ],
   "source": [
    "train = data.drop('Class' , 1 )\n",
    "test = data['Class']\n",
    "\n",
    "from sklearn.model_selection import train_test_split\n",
    "\n",
    "x_train , x_test , y_train , y_test = train_test_split( train , test , test_size = 0.2 )\n",
    "\n",
    "\n",
    "print(  y_train.value_counts()  )\n",
    "print(  y_test.value_counts()  )\n"
   ]
  },
  {
   "cell_type": "code",
   "execution_count": 49,
   "metadata": {},
   "outputs": [
    {
     "data": {
      "text/plain": [
       "(166, 60)"
      ]
     },
     "execution_count": 49,
     "metadata": {},
     "output_type": "execute_result"
    }
   ],
   "source": [
    "x_train.shape"
   ]
  },
  {
   "cell_type": "markdown",
   "metadata": {},
   "source": [
    "# Keras "
   ]
  },
  {
   "cell_type": "code",
   "execution_count": 10,
   "metadata": {},
   "outputs": [
    {
     "name": "stdout",
     "output_type": "stream",
     "text": [
      "WARNING:tensorflow:From C:\\Users\\Administrator\\Anaconda3\\envs\\tf1\\lib\\site-packages\\tensorflow_core\\python\\ops\\resource_variable_ops.py:1630: calling BaseResourceVariable.__init__ (from tensorflow.python.ops.resource_variable_ops) with constraint is deprecated and will be removed in a future version.\n",
      "Instructions for updating:\n",
      "If using Keras pass *_constraint arguments to layers.\n"
     ]
    }
   ],
   "source": [
    "# Initializing \n",
    "mymodel = Sequential()\n",
    "\n",
    "# adding neurons \n",
    "\n",
    "mymodel.add( Dense( units = 200 , input_dim = 60 , activation = 'relu' ) )\n",
    "mymodel.add( Dense( units = 100 , activation = 'relu' ) )\n",
    "mymodel.add( Dense( units = 50 , activation = 'relu' ) )\n",
    "mymodel.add( Dense( units = 20 , activation = 'relu' ) )\n",
    "\n",
    "mymodel.add( Dense( units = 1 , activation = 'sigmoid' ) )"
   ]
  },
  {
   "cell_type": "code",
   "execution_count": 11,
   "metadata": {},
   "outputs": [
    {
     "name": "stdout",
     "output_type": "stream",
     "text": [
      "WARNING:tensorflow:From C:\\Users\\Administrator\\Anaconda3\\envs\\tf1\\lib\\site-packages\\tensorflow_core\\python\\ops\\nn_impl.py:183: where (from tensorflow.python.ops.array_ops) is deprecated and will be removed in a future version.\n",
      "Instructions for updating:\n",
      "Use tf.where in 2.0, which has the same broadcast rule as np.where\n"
     ]
    }
   ],
   "source": [
    "# compiling data \n",
    "\n",
    "mymodel.compile( optimizer = 'adam' , loss = 'binary_crossentropy' , metrics = ['accuracy'] )"
   ]
  },
  {
   "cell_type": "code",
   "execution_count": 12,
   "metadata": {},
   "outputs": [
    {
     "name": "stdout",
     "output_type": "stream",
     "text": [
      "Model: \"sequential_1\"\n",
      "_________________________________________________________________\n",
      "Layer (type)                 Output Shape              Param #   \n",
      "=================================================================\n",
      "dense_1 (Dense)              (None, 200)               12200     \n",
      "_________________________________________________________________\n",
      "dense_2 (Dense)              (None, 100)               20100     \n",
      "_________________________________________________________________\n",
      "dense_3 (Dense)              (None, 50)                5050      \n",
      "_________________________________________________________________\n",
      "dense_4 (Dense)              (None, 20)                1020      \n",
      "_________________________________________________________________\n",
      "dense_5 (Dense)              (None, 1)                 21        \n",
      "=================================================================\n",
      "Total params: 38,391\n",
      "Trainable params: 38,391\n",
      "Non-trainable params: 0\n",
      "_________________________________________________________________\n"
     ]
    }
   ],
   "source": [
    "mymodel.summary()"
   ]
  },
  {
   "cell_type": "code",
   "execution_count": 13,
   "metadata": {},
   "outputs": [
    {
     "name": "stdout",
     "output_type": "stream",
     "text": [
      "WARNING:tensorflow:From C:\\Users\\Administrator\\Anaconda3\\envs\\tf1\\lib\\site-packages\\keras\\backend\\tensorflow_backend.py:422: The name tf.global_variables is deprecated. Please use tf.compat.v1.global_variables instead.\n",
      "\n",
      "Epoch 1/100\n",
      "166/166 [==============================] - 1s 4ms/step - loss: 0.6947 - accuracy: 0.5241\n",
      "Epoch 2/100\n",
      "166/166 [==============================] - 0s 229us/step - loss: 0.6711 - accuracy: 0.5361\n",
      "Epoch 3/100\n",
      "166/166 [==============================] - 0s 223us/step - loss: 0.6514 - accuracy: 0.5843\n",
      "Epoch 4/100\n",
      "166/166 [==============================] - 0s 223us/step - loss: 0.6255 - accuracy: 0.6747\n",
      "Epoch 5/100\n",
      "166/166 [==============================] - 0s 217us/step - loss: 0.6006 - accuracy: 0.6867\n",
      "Epoch 6/100\n",
      "166/166 [==============================] - 0s 319us/step - loss: 0.5615 - accuracy: 0.7470\n",
      "Epoch 7/100\n",
      "166/166 [==============================] - 0s 205us/step - loss: 0.5256 - accuracy: 0.7771\n",
      "Epoch 8/100\n",
      "166/166 [==============================] - 0s 271us/step - loss: 0.4909 - accuracy: 0.7530\n",
      "Epoch 9/100\n",
      "166/166 [==============================] - 0s 229us/step - loss: 0.4587 - accuracy: 0.8193\n",
      "Epoch 10/100\n",
      "166/166 [==============================] - 0s 229us/step - loss: 0.4213 - accuracy: 0.8072\n",
      "Epoch 11/100\n",
      "166/166 [==============================] - 0s 217us/step - loss: 0.3894 - accuracy: 0.8434\n",
      "Epoch 12/100\n",
      "166/166 [==============================] - 0s 253us/step - loss: 0.3679 - accuracy: 0.8072\n",
      "Epoch 13/100\n",
      "166/166 [==============================] - ETA: 0s - loss: 0.3490 - accuracy: 0.87 - 0s 223us/step - loss: 0.3349 - accuracy: 0.8494\n",
      "Epoch 14/100\n",
      "166/166 [==============================] - 0s 259us/step - loss: 0.3201 - accuracy: 0.8795\n",
      "Epoch 15/100\n",
      "166/166 [==============================] - 0s 295us/step - loss: 0.2964 - accuracy: 0.8855\n",
      "Epoch 16/100\n",
      "166/166 [==============================] - 0s 205us/step - loss: 0.3037 - accuracy: 0.8675\n",
      "Epoch 17/100\n",
      "166/166 [==============================] - 0s 235us/step - loss: 0.2585 - accuracy: 0.9096\n",
      "Epoch 18/100\n",
      "166/166 [==============================] - 0s 235us/step - loss: 0.2662 - accuracy: 0.8976\n",
      "Epoch 19/100\n",
      "166/166 [==============================] - 0s 271us/step - loss: 0.2428 - accuracy: 0.9036\n",
      "Epoch 20/100\n",
      "166/166 [==============================] - 0s 367us/step - loss: 0.3294 - accuracy: 0.8373\n",
      "Epoch 21/100\n",
      "166/166 [==============================] - 0s 211us/step - loss: 0.2720 - accuracy: 0.8795\n",
      "Epoch 22/100\n",
      "166/166 [==============================] - 0s 265us/step - loss: 0.2812 - accuracy: 0.8735\n",
      "Epoch 23/100\n",
      "166/166 [==============================] - 0s 241us/step - loss: 0.1915 - accuracy: 0.9337\n",
      "Epoch 24/100\n",
      "166/166 [==============================] - 0s 325us/step - loss: 0.2207 - accuracy: 0.9157\n",
      "Epoch 25/100\n",
      "166/166 [==============================] - 0s 247us/step - loss: 0.1822 - accuracy: 0.9277\n",
      "Epoch 26/100\n",
      "166/166 [==============================] - 0s 289us/step - loss: 0.1666 - accuracy: 0.9337\n",
      "Epoch 27/100\n",
      "166/166 [==============================] - 0s 476us/step - loss: 0.1382 - accuracy: 0.9759\n",
      "Epoch 28/100\n",
      "166/166 [==============================] - 0s 307us/step - loss: 0.1349 - accuracy: 0.9578\n",
      "Epoch 29/100\n",
      "166/166 [==============================] - 0s 247us/step - loss: 0.1274 - accuracy: 0.9639\n",
      "Epoch 30/100\n",
      "166/166 [==============================] - 0s 307us/step - loss: 0.1105 - accuracy: 0.9759\n",
      "Epoch 31/100\n",
      "166/166 [==============================] - 0s 301us/step - loss: 0.1090 - accuracy: 0.9880\n",
      "Epoch 32/100\n",
      "166/166 [==============================] - 0s 397us/step - loss: 0.0918 - accuracy: 0.9880\n",
      "Epoch 33/100\n",
      "166/166 [==============================] - 0s 289us/step - loss: 0.0773 - accuracy: 0.9940\n",
      "Epoch 34/100\n",
      "166/166 [==============================] - 0s 253us/step - loss: 0.0686 - accuracy: 1.0000\n",
      "Epoch 35/100\n",
      "166/166 [==============================] - 0s 247us/step - loss: 0.0601 - accuracy: 1.0000\n",
      "Epoch 36/100\n",
      "166/166 [==============================] - 0s 229us/step - loss: 0.0636 - accuracy: 0.9940\n",
      "Epoch 37/100\n",
      "166/166 [==============================] - 0s 247us/step - loss: 0.0551 - accuracy: 1.0000\n",
      "Epoch 38/100\n",
      "166/166 [==============================] - 0s 235us/step - loss: 0.0422 - accuracy: 1.0000\n",
      "Epoch 39/100\n",
      "166/166 [==============================] - 0s 295us/step - loss: 0.0366 - accuracy: 1.0000\n",
      "Epoch 40/100\n",
      "166/166 [==============================] - 0s 187us/step - loss: 0.0330 - accuracy: 1.0000\n",
      "Epoch 41/100\n",
      "166/166 [==============================] - 0s 241us/step - loss: 0.0304 - accuracy: 1.0000\n",
      "Epoch 42/100\n",
      "166/166 [==============================] - 0s 223us/step - loss: 0.0414 - accuracy: 1.0000\n",
      "Epoch 43/100\n",
      "166/166 [==============================] - 0s 235us/step - loss: 0.0505 - accuracy: 0.9819\n",
      "Epoch 44/100\n",
      "166/166 [==============================] - 0s 313us/step - loss: 0.0481 - accuracy: 0.9940\n",
      "Epoch 45/100\n",
      "166/166 [==============================] - 0s 235us/step - loss: 0.0456 - accuracy: 0.9880\n",
      "Epoch 46/100\n",
      "166/166 [==============================] - ETA: 0s - loss: 0.0331 - accuracy: 0.99 - 0s 476us/step - loss: 0.0328 - accuracy: 0.9940\n",
      "Epoch 47/100\n",
      "166/166 [==============================] - 0s 259us/step - loss: 0.0283 - accuracy: 1.0000\n",
      "Epoch 48/100\n",
      "166/166 [==============================] - 0s 307us/step - loss: 0.0285 - accuracy: 1.0000\n",
      "Epoch 49/100\n",
      "166/166 [==============================] - 0s 229us/step - loss: 0.0195 - accuracy: 1.0000\n",
      "Epoch 50/100\n",
      "166/166 [==============================] - 0s 217us/step - loss: 0.0205 - accuracy: 1.0000\n",
      "Epoch 51/100\n",
      "166/166 [==============================] - 0s 235us/step - loss: 0.0142 - accuracy: 1.0000\n",
      "Epoch 52/100\n",
      "166/166 [==============================] - 0s 301us/step - loss: 0.0144 - accuracy: 1.0000\n",
      "Epoch 53/100\n",
      "166/166 [==============================] - 0s 307us/step - loss: 0.0082 - accuracy: 1.0000\n",
      "Epoch 54/100\n",
      "166/166 [==============================] - 0s 253us/step - loss: 0.0068 - accuracy: 1.0000\n",
      "Epoch 55/100\n",
      "166/166 [==============================] - 0s 223us/step - loss: 0.0065 - accuracy: 1.0000\n",
      "Epoch 56/100\n",
      "166/166 [==============================] - 0s 235us/step - loss: 0.0056 - accuracy: 1.0000\n",
      "Epoch 57/100\n",
      "166/166 [==============================] - 0s 247us/step - loss: 0.0052 - accuracy: 1.0000\n",
      "Epoch 58/100\n",
      "166/166 [==============================] - 0s 259us/step - loss: 0.0047 - accuracy: 1.0000\n",
      "Epoch 59/100\n",
      "166/166 [==============================] - 0s 283us/step - loss: 0.0046 - accuracy: 1.0000\n",
      "Epoch 60/100\n",
      "166/166 [==============================] - 0s 277us/step - loss: 0.0043 - accuracy: 1.0000\n",
      "Epoch 61/100\n",
      "166/166 [==============================] - 0s 289us/step - loss: 0.0039 - accuracy: 1.0000\n",
      "Epoch 62/100\n",
      "166/166 [==============================] - 0s 241us/step - loss: 0.0041 - accuracy: 1.0000\n",
      "Epoch 63/100\n",
      "166/166 [==============================] - 0s 367us/step - loss: 0.0036 - accuracy: 1.0000\n",
      "Epoch 64/100\n",
      "166/166 [==============================] - 0s 265us/step - loss: 0.0033 - accuracy: 1.0000\n",
      "Epoch 65/100\n",
      "166/166 [==============================] - 0s 253us/step - loss: 0.0031 - accuracy: 1.0000\n",
      "Epoch 66/100\n",
      "166/166 [==============================] - 0s 199us/step - loss: 0.0031 - accuracy: 1.0000\n",
      "Epoch 67/100\n",
      "166/166 [==============================] - 0s 349us/step - loss: 0.0028 - accuracy: 1.0000\n",
      "Epoch 68/100\n",
      "166/166 [==============================] - 0s 277us/step - loss: 0.0029 - accuracy: 1.0000\n",
      "Epoch 69/100\n",
      "166/166 [==============================] - 0s 217us/step - loss: 0.0029 - accuracy: 1.0000\n",
      "Epoch 70/100\n",
      "166/166 [==============================] - 0s 229us/step - loss: 0.0027 - accuracy: 1.0000\n",
      "Epoch 71/100\n",
      "166/166 [==============================] - 0s 235us/step - loss: 0.0023 - accuracy: 1.0000\n",
      "Epoch 72/100\n",
      "166/166 [==============================] - 0s 295us/step - loss: 0.0023 - accuracy: 1.0000\n",
      "Epoch 73/100\n",
      "166/166 [==============================] - 0s 235us/step - loss: 0.0021 - accuracy: 1.0000\n",
      "Epoch 74/100\n",
      "166/166 [==============================] - 0s 319us/step - loss: 0.0022 - accuracy: 1.0000\n",
      "Epoch 75/100\n",
      "166/166 [==============================] - 0s 247us/step - loss: 0.0022 - accuracy: 1.0000\n",
      "Epoch 76/100\n",
      "166/166 [==============================] - 0s 337us/step - loss: 0.0020 - accuracy: 1.0000\n"
     ]
    },
    {
     "name": "stdout",
     "output_type": "stream",
     "text": [
      "Epoch 77/100\n",
      "166/166 [==============================] - 0s 199us/step - loss: 0.0019 - accuracy: 1.0000\n",
      "Epoch 78/100\n",
      "166/166 [==============================] - 0s 163us/step - loss: 0.0017 - accuracy: 1.0000\n",
      "Epoch 79/100\n",
      "166/166 [==============================] - 0s 175us/step - loss: 0.0017 - accuracy: 1.0000\n",
      "Epoch 80/100\n",
      "166/166 [==============================] - 0s 181us/step - loss: 0.0016 - accuracy: 1.0000\n",
      "Epoch 81/100\n",
      "166/166 [==============================] - 0s 199us/step - loss: 0.0016 - accuracy: 1.0000\n",
      "Epoch 82/100\n",
      "166/166 [==============================] - 0s 181us/step - loss: 0.0016 - accuracy: 1.0000\n",
      "Epoch 83/100\n",
      "166/166 [==============================] - 0s 229us/step - loss: 0.0015 - accuracy: 1.0000\n",
      "Epoch 84/100\n",
      "166/166 [==============================] - 0s 193us/step - loss: 0.0014 - accuracy: 1.0000\n",
      "Epoch 85/100\n",
      "166/166 [==============================] - 0s 193us/step - loss: 0.0013 - accuracy: 1.0000\n",
      "Epoch 86/100\n",
      "166/166 [==============================] - 0s 151us/step - loss: 0.0013 - accuracy: 1.0000\n",
      "Epoch 87/100\n",
      "166/166 [==============================] - 0s 181us/step - loss: 0.0013 - accuracy: 1.0000\n",
      "Epoch 88/100\n",
      "166/166 [==============================] - 0s 187us/step - loss: 0.0012 - accuracy: 1.0000\n",
      "Epoch 89/100\n",
      "166/166 [==============================] - 0s 199us/step - loss: 0.0013 - accuracy: 1.0000\n",
      "Epoch 90/100\n",
      "166/166 [==============================] - 0s 205us/step - loss: 0.0011 - accuracy: 1.0000\n",
      "Epoch 91/100\n",
      "166/166 [==============================] - 0s 253us/step - loss: 0.0011 - accuracy: 1.0000\n",
      "Epoch 92/100\n",
      "166/166 [==============================] - 0s 181us/step - loss: 0.0011 - accuracy: 1.0000\n",
      "Epoch 93/100\n",
      "166/166 [==============================] - 0s 169us/step - loss: 0.0010 - accuracy: 1.0000\n",
      "Epoch 94/100\n",
      "166/166 [==============================] - 0s 181us/step - loss: 0.0010 - accuracy: 1.0000\n",
      "Epoch 95/100\n",
      "166/166 [==============================] - 0s 175us/step - loss: 9.6827e-04 - accuracy: 1.0000\n",
      "Epoch 96/100\n",
      "166/166 [==============================] - 0s 217us/step - loss: 9.5771e-04 - accuracy: 1.0000\n",
      "Epoch 97/100\n",
      "166/166 [==============================] - 0s 187us/step - loss: 9.2746e-04 - accuracy: 1.0000\n",
      "Epoch 98/100\n",
      "166/166 [==============================] - 0s 187us/step - loss: 9.0816e-04 - accuracy: 1.0000\n",
      "Epoch 99/100\n",
      "166/166 [==============================] - 0s 205us/step - loss: 9.0433e-04 - accuracy: 1.0000\n",
      "Epoch 100/100\n",
      "166/166 [==============================] - 0s 211us/step - loss: 9.9522e-04 - accuracy: 1.0000\n"
     ]
    },
    {
     "data": {
      "text/plain": [
       "<keras.callbacks.callbacks.History at 0x228d6279308>"
      ]
     },
     "execution_count": 13,
     "metadata": {},
     "output_type": "execute_result"
    }
   ],
   "source": [
    "mymodel.fit( x_train , y_train , epochs = 100 )"
   ]
  },
  {
   "cell_type": "code",
   "execution_count": 14,
   "metadata": {},
   "outputs": [
    {
     "name": "stdout",
     "output_type": "stream",
     "text": [
      "42/42 [==============================] - 0s 3ms/step\n"
     ]
    },
    {
     "data": {
      "text/plain": [
       "[0.2776134383110773, 0.9523809552192688]"
      ]
     },
     "execution_count": 14,
     "metadata": {},
     "output_type": "execute_result"
    }
   ],
   "source": [
    "mymodel.evaluate( x_test , y_test )"
   ]
  },
  {
   "cell_type": "code",
   "execution_count": 57,
   "metadata": {},
   "outputs": [
    {
     "data": {
      "text/html": [
       "<div>\n",
       "<style scoped>\n",
       "    .dataframe tbody tr th:only-of-type {\n",
       "        vertical-align: middle;\n",
       "    }\n",
       "\n",
       "    .dataframe tbody tr th {\n",
       "        vertical-align: top;\n",
       "    }\n",
       "\n",
       "    .dataframe thead th {\n",
       "        text-align: right;\n",
       "    }\n",
       "</style>\n",
       "<table border=\"1\" class=\"dataframe\">\n",
       "  <thead>\n",
       "    <tr style=\"text-align: right;\">\n",
       "      <th></th>\n",
       "      <th>attribute_1</th>\n",
       "      <th>attribute_2</th>\n",
       "      <th>attribute_3</th>\n",
       "      <th>attribute_4</th>\n",
       "      <th>attribute_5</th>\n",
       "      <th>attribute_6</th>\n",
       "      <th>attribute_7</th>\n",
       "      <th>attribute_8</th>\n",
       "      <th>attribute_9</th>\n",
       "      <th>attribute_10</th>\n",
       "      <th>...</th>\n",
       "      <th>attribute_51</th>\n",
       "      <th>attribute_52</th>\n",
       "      <th>attribute_53</th>\n",
       "      <th>attribute_54</th>\n",
       "      <th>attribute_55</th>\n",
       "      <th>attribute_56</th>\n",
       "      <th>attribute_57</th>\n",
       "      <th>attribute_58</th>\n",
       "      <th>attribute_59</th>\n",
       "      <th>attribute_60</th>\n",
       "    </tr>\n",
       "  </thead>\n",
       "  <tbody>\n",
       "    <tr>\n",
       "      <th>117</th>\n",
       "      <td>0.0228</td>\n",
       "      <td>0.0106</td>\n",
       "      <td>0.013</td>\n",
       "      <td>0.0842</td>\n",
       "      <td>0.1117</td>\n",
       "      <td>0.1506</td>\n",
       "      <td>0.1776</td>\n",
       "      <td>0.0997</td>\n",
       "      <td>0.1428</td>\n",
       "      <td>0.2227</td>\n",
       "      <td>...</td>\n",
       "      <td>0.0185</td>\n",
       "      <td>0.0098</td>\n",
       "      <td>0.0178</td>\n",
       "      <td>0.0077</td>\n",
       "      <td>0.0074</td>\n",
       "      <td>0.0095</td>\n",
       "      <td>0.0055</td>\n",
       "      <td>0.0045</td>\n",
       "      <td>0.0063</td>\n",
       "      <td>0.0039</td>\n",
       "    </tr>\n",
       "  </tbody>\n",
       "</table>\n",
       "<p>1 rows × 60 columns</p>\n",
       "</div>"
      ],
      "text/plain": [
       "     attribute_1  attribute_2  attribute_3  attribute_4  attribute_5  \\\n",
       "117       0.0228       0.0106        0.013       0.0842       0.1117   \n",
       "\n",
       "     attribute_6  attribute_7  attribute_8  attribute_9  attribute_10  ...  \\\n",
       "117       0.1506       0.1776       0.0997       0.1428        0.2227  ...   \n",
       "\n",
       "     attribute_51  attribute_52  attribute_53  attribute_54  attribute_55  \\\n",
       "117        0.0185        0.0098        0.0178        0.0077        0.0074   \n",
       "\n",
       "     attribute_56  attribute_57  attribute_58  attribute_59  attribute_60  \n",
       "117        0.0095        0.0055        0.0045        0.0063        0.0039  \n",
       "\n",
       "[1 rows x 60 columns]"
      ]
     },
     "execution_count": 57,
     "metadata": {},
     "output_type": "execute_result"
    }
   ],
   "source": [
    "x_test.head(1)"
   ]
  },
  {
   "cell_type": "code",
   "execution_count": 59,
   "metadata": {},
   "outputs": [
    {
     "data": {
      "text/html": [
       "<div>\n",
       "<style scoped>\n",
       "    .dataframe tbody tr th:only-of-type {\n",
       "        vertical-align: middle;\n",
       "    }\n",
       "\n",
       "    .dataframe tbody tr th {\n",
       "        vertical-align: top;\n",
       "    }\n",
       "\n",
       "    .dataframe thead th {\n",
       "        text-align: right;\n",
       "    }\n",
       "</style>\n",
       "<table border=\"1\" class=\"dataframe\">\n",
       "  <thead>\n",
       "    <tr style=\"text-align: right;\">\n",
       "      <th></th>\n",
       "      <th>attribute_1</th>\n",
       "      <th>attribute_2</th>\n",
       "      <th>attribute_3</th>\n",
       "      <th>attribute_4</th>\n",
       "      <th>attribute_5</th>\n",
       "      <th>attribute_6</th>\n",
       "      <th>attribute_7</th>\n",
       "      <th>attribute_8</th>\n",
       "      <th>attribute_9</th>\n",
       "      <th>attribute_10</th>\n",
       "      <th>...</th>\n",
       "      <th>attribute_51</th>\n",
       "      <th>attribute_52</th>\n",
       "      <th>attribute_53</th>\n",
       "      <th>attribute_54</th>\n",
       "      <th>attribute_55</th>\n",
       "      <th>attribute_56</th>\n",
       "      <th>attribute_57</th>\n",
       "      <th>attribute_58</th>\n",
       "      <th>attribute_59</th>\n",
       "      <th>attribute_60</th>\n",
       "    </tr>\n",
       "  </thead>\n",
       "  <tbody>\n",
       "    <tr>\n",
       "      <th>117</th>\n",
       "      <td>0.0228</td>\n",
       "      <td>0.0106</td>\n",
       "      <td>0.013</td>\n",
       "      <td>0.0842</td>\n",
       "      <td>0.1117</td>\n",
       "      <td>0.1506</td>\n",
       "      <td>0.1776</td>\n",
       "      <td>0.0997</td>\n",
       "      <td>0.1428</td>\n",
       "      <td>0.2227</td>\n",
       "      <td>...</td>\n",
       "      <td>0.0185</td>\n",
       "      <td>0.0098</td>\n",
       "      <td>0.0178</td>\n",
       "      <td>0.0077</td>\n",
       "      <td>0.0074</td>\n",
       "      <td>0.0095</td>\n",
       "      <td>0.0055</td>\n",
       "      <td>0.0045</td>\n",
       "      <td>0.0063</td>\n",
       "      <td>0.0039</td>\n",
       "    </tr>\n",
       "  </tbody>\n",
       "</table>\n",
       "<p>1 rows × 60 columns</p>\n",
       "</div>"
      ],
      "text/plain": [
       "     attribute_1  attribute_2  attribute_3  attribute_4  attribute_5  \\\n",
       "117       0.0228       0.0106        0.013       0.0842       0.1117   \n",
       "\n",
       "     attribute_6  attribute_7  attribute_8  attribute_9  attribute_10  ...  \\\n",
       "117       0.1506       0.1776       0.0997       0.1428        0.2227  ...   \n",
       "\n",
       "     attribute_51  attribute_52  attribute_53  attribute_54  attribute_55  \\\n",
       "117        0.0185        0.0098        0.0178        0.0077        0.0074   \n",
       "\n",
       "     attribute_56  attribute_57  attribute_58  attribute_59  attribute_60  \n",
       "117        0.0095        0.0055        0.0045        0.0063        0.0039  \n",
       "\n",
       "[1 rows x 60 columns]"
      ]
     },
     "execution_count": 59,
     "metadata": {},
     "output_type": "execute_result"
    }
   ],
   "source": [
    "test_data = x_test.loc[ [117] , : ]\n",
    "\n",
    "test_data"
   ]
  },
  {
   "cell_type": "code",
   "execution_count": 60,
   "metadata": {},
   "outputs": [
    {
     "data": {
      "text/plain": [
       "(1, 60)"
      ]
     },
     "execution_count": 60,
     "metadata": {},
     "output_type": "execute_result"
    }
   ],
   "source": [
    "test_data.shape"
   ]
  },
  {
   "cell_type": "code",
   "execution_count": 62,
   "metadata": {},
   "outputs": [
    {
     "data": {
      "text/plain": [
       "array([[1.]], dtype=float32)"
      ]
     },
     "execution_count": 62,
     "metadata": {},
     "output_type": "execute_result"
    }
   ],
   "source": [
    "mymodel.predict( test_data ).round()"
   ]
  },
  {
   "cell_type": "code",
   "execution_count": null,
   "metadata": {},
   "outputs": [],
   "source": []
  },
  {
   "cell_type": "code",
   "execution_count": null,
   "metadata": {},
   "outputs": [],
   "source": []
  },
  {
   "cell_type": "code",
   "execution_count": 52,
   "metadata": {},
   "outputs": [],
   "source": [
    "mnist = tf.keras.datasets.mnist "
   ]
  },
  {
   "cell_type": "code",
   "execution_count": 63,
   "metadata": {},
   "outputs": [],
   "source": [
    "(x_train , y_train ) , (x_test ,y_test) = mnist.load_data()"
   ]
  },
  {
   "cell_type": "code",
   "execution_count": 64,
   "metadata": {},
   "outputs": [],
   "source": [
    "x_train , x_test = x_train / 255 , x_test / 255"
   ]
  },
  {
   "cell_type": "code",
   "execution_count": 65,
   "metadata": {},
   "outputs": [],
   "source": [
    "# mymodel1 = Sequential()\n",
    "\n"
   ]
  },
  {
   "cell_type": "code",
   "execution_count": null,
   "metadata": {},
   "outputs": [],
   "source": []
  }
 ],
 "metadata": {
  "kernelspec": {
   "display_name": "Python 3",
   "language": "python",
   "name": "python3"
  },
  "language_info": {
   "codemirror_mode": {
    "name": "ipython",
    "version": 3
   },
   "file_extension": ".py",
   "mimetype": "text/x-python",
   "name": "python",
   "nbconvert_exporter": "python",
   "pygments_lexer": "ipython3",
   "version": "3.7.6"
  }
 },
 "nbformat": 4,
 "nbformat_minor": 2
}
