{
 "cells": [
  {
   "cell_type": "code",
   "execution_count": 2,
   "metadata": {},
   "outputs": [
    {
     "name": "stdout",
     "output_type": "stream",
     "text": [
      "Collecting joblib\n",
      "  Using cached https://files.pythonhosted.org/packages/28/5c/cf6a2b65a321c4a209efcdf64c2689efae2cb62661f8f6f4bb28547cf1bf/joblib-0.14.1-py2.py3-none-any.whl\n",
      "Installing collected packages: joblib\n",
      "Successfully installed joblib-0.14.1\n",
      "Note: you may need to restart the kernel to use updated packages.\n"
     ]
    }
   ],
   "source": [
    "pip install joblib"
   ]
  },
  {
   "cell_type": "code",
   "execution_count": 3,
   "metadata": {},
   "outputs": [],
   "source": [
    "import tensorflow as tf\n",
    "\n",
    "from sklearn.metrics import accuracy_score"
   ]
  },
  {
   "cell_type": "code",
   "execution_count": 11,
   "metadata": {},
   "outputs": [],
   "source": [
    "x = tf.placeholder( tf.float32 , [None , 2] )\n",
    "y = tf.placeholder( tf.float32 , [None , 1] )\n",
    "\n",
    "weight = tf.Variable( tf.zeros([2,1]) )\n",
    "bias = tf.Variable( tf.zeros([1]) )\n",
    "\n",
    "init_op = tf.global_variables_initializer()\n",
    "\n",
    "I = tf.add( tf.matmul(x,weight) , bias )\n",
    "\n",
    "output = tf.sigmoid(I)\n",
    "\n",
    "individual_loss = tf.nn.sigmoid_cross_entropy_with_logits( labels = y , logits = output )\n",
    "\n",
    "loss = tf.reduce_mean( individual_loss) \n",
    "\n",
    "gdo = tf.train.GradientDescentOptimizer( learning_rate = 0.01 )\n",
    "\n",
    "train = gdo.minimize( loss )"
   ]
  },
  {
   "cell_type": "code",
   "execution_count": 12,
   "metadata": {},
   "outputs": [],
   "source": [
    "sess = tf.Session()\n",
    "sess.run(init_op)"
   ]
  },
  {
   "cell_type": "code",
   "execution_count": 13,
   "metadata": {},
   "outputs": [
    {
     "name": "stdout",
     "output_type": "stream",
     "text": [
      "weight : \n",
      " [[0.]\n",
      " [0.]]\n",
      "bias : \n",
      " [0.]\n"
     ]
    }
   ],
   "source": [
    "print( 'weight : \\n' , sess.run( weight ) )\n",
    "print( 'bias : \\n' , sess.run( bias ) )"
   ]
  },
  {
   "cell_type": "code",
   "execution_count": 14,
   "metadata": {},
   "outputs": [],
   "source": [
    "x_input = [ [0,0] , [0,1] , [1,0] , [1,1] ]\n",
    "y_input = [[0],[1],[1],[1]]"
   ]
  },
  {
   "cell_type": "code",
   "execution_count": 15,
   "metadata": {},
   "outputs": [],
   "source": [
    "sess.run( train , feed_dict = { x : x_input , y : y_input } )"
   ]
  },
  {
   "cell_type": "code",
   "execution_count": 16,
   "metadata": {},
   "outputs": [
    {
     "name": "stdout",
     "output_type": "stream",
     "text": [
      "weight : \n",
      " [[0.00047193]\n",
      " [0.00047193]]\n",
      "bias : \n",
      " [0.00031885]\n"
     ]
    }
   ],
   "source": [
    "print( 'weight : \\n' , sess.run( weight ) )\n",
    "print( 'bias : \\n' , sess.run( bias ) )"
   ]
  },
  {
   "cell_type": "code",
   "execution_count": 17,
   "metadata": {},
   "outputs": [
    {
     "data": {
      "text/plain": [
       "array([[1.],\n",
       "       [1.],\n",
       "       [1.],\n",
       "       [1.]], dtype=float32)"
      ]
     },
     "execution_count": 17,
     "metadata": {},
     "output_type": "execute_result"
    }
   ],
   "source": [
    "result = sess.run( output , feed_dict = { x : x_input , y : y_input } )\n",
    "\n",
    "result.round()\n"
   ]
  },
  {
   "cell_type": "markdown",
   "metadata": {},
   "source": [
    "# Not accurate so iterate throught the loop"
   ]
  },
  {
   "cell_type": "code",
   "execution_count": 18,
   "metadata": {},
   "outputs": [],
   "source": [
    "for i in range(10000) :\n",
    "    sess.run( train , feed_dict = { x : x_input , y : y_input } )"
   ]
  },
  {
   "cell_type": "code",
   "execution_count": 20,
   "metadata": {},
   "outputs": [
    {
     "data": {
      "text/plain": [
       "array([[0.],\n",
       "       [1.],\n",
       "       [1.],\n",
       "       [1.]], dtype=float32)"
      ]
     },
     "execution_count": 20,
     "metadata": {},
     "output_type": "execute_result"
    }
   ],
   "source": [
    "result = sess.run( output , feed_dict = { x : x_input , y : y_input } )\n",
    "\n",
    "y_pred = result.round()\n",
    "\n",
    "y_pred"
   ]
  },
  {
   "cell_type": "code",
   "execution_count": 31,
   "metadata": {},
   "outputs": [
    {
     "data": {
      "text/plain": [
       "array([[0.38464698],\n",
       "       [0.8231559 ],\n",
       "       [0.8231559 ],\n",
       "       [0.9719585 ]], dtype=float32)"
      ]
     },
     "execution_count": 31,
     "metadata": {},
     "output_type": "execute_result"
    }
   ],
   "source": [
    "result"
   ]
  },
  {
   "cell_type": "code",
   "execution_count": 32,
   "metadata": {},
   "outputs": [
    {
     "data": {
      "text/plain": [
       "1.0"
      ]
     },
     "execution_count": 32,
     "metadata": {},
     "output_type": "execute_result"
    }
   ],
   "source": [
    "accuracy_score( y_input , y_pred )"
   ]
  },
  {
   "cell_type": "code",
   "execution_count": 35,
   "metadata": {},
   "outputs": [
    {
     "name": "stdout",
     "output_type": "stream",
     "text": [
      "weight : \n",
      " [[2.0077474]\n",
      " [2.0077474]]\n",
      "bias : \n",
      " [-0.46987024]\n"
     ]
    }
   ],
   "source": [
    "print( 'weight : \\n' , sess.run( weight ) )\n",
    "print( 'bias : \\n' , sess.run( bias ) )"
   ]
  },
  {
   "cell_type": "markdown",
   "metadata": {},
   "source": [
    "# Inference "
   ]
  },
  {
   "cell_type": "code",
   "execution_count": 28,
   "metadata": {},
   "outputs": [
    {
     "name": "stdout",
     "output_type": "stream",
     "text": [
      "[[0.38464692]]\n",
      "[[0.]]\n"
     ]
    }
   ],
   "source": [
    "x1 = [ [0,0] ]\n",
    "\n",
    "pred_result = sess.run( output , feed_dict = {x : x1 } )\n",
    "\n",
    "print(pred_result)\n",
    "\n",
    "print(pred_result.round())"
   ]
  },
  {
   "cell_type": "code",
   "execution_count": null,
   "metadata": {},
   "outputs": [],
   "source": []
  }
 ],
 "metadata": {
  "kernelspec": {
   "display_name": "Python 3",
   "language": "python",
   "name": "python3"
  },
  "language_info": {
   "codemirror_mode": {
    "name": "ipython",
    "version": 3
   },
   "file_extension": ".py",
   "mimetype": "text/x-python",
   "name": "python",
   "nbconvert_exporter": "python",
   "pygments_lexer": "ipython3",
   "version": "3.7.6"
  }
 },
 "nbformat": 4,
 "nbformat_minor": 2
}
