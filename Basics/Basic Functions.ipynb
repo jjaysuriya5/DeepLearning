{
 "cells": [
  {
   "cell_type": "code",
   "execution_count": 1,
   "metadata": {},
   "outputs": [],
   "source": [
    "import tensorflow as tf"
   ]
  },
  {
   "cell_type": "markdown",
   "metadata": {},
   "source": [
    "## Demo code to find x^2y + y + c"
   ]
  },
  {
   "cell_type": "code",
   "execution_count": null,
   "metadata": {},
   "outputs": [],
   "source": [
    "init_op = tf.global_variables_initializer()\n",
    "\n",
    "sess = tf.Session()\n",
    "\n",
    "sess.run( init_op ) # to use the variables"
   ]
  },
  {
   "cell_type": "code",
   "execution_count": null,
   "metadata": {},
   "outputs": [],
   "source": [
    "sess.run(Z) # ( (3^2)*4 + 4 + 2 )"
   ]
  },
  {
   "cell_type": "code",
   "execution_count": null,
   "metadata": {},
   "outputs": [],
   "source": [
    "# Same code using placeholders \n",
    "\n",
    "X1 = tf.placeholder( tf.float32 )\n",
    "Y1 = tf.placeholder( tf.float32 )\n",
    "C1 = tf.constant( 2.0 )\n",
    "\n",
    "Z1 = X1*X1*Y1 + Y1 + C1\n",
    "\n",
    "print( sess.run( Z1 , feed_dict = {X1 : 3 , Y1 : 4 }) ) \n",
    "\n",
    "print( sess.run( Z1 , feed_dict = {X1 : 24.35 , Y1 : 86.92 }) )\n"
   ]
  },
  {
   "cell_type": "code",
   "execution_count": null,
   "metadata": {},
   "outputs": [],
   "source": [
    "# Same code using placeholders and getting value fro user \n",
    "\n",
    "X1 = tf.placeholder( tf.float32 )\n",
    "Y1 = tf.placeholder( tf.float32 )\n",
    "C1 = tf.constant( 2.0 )\n",
    "\n",
    "Z1 = X1*X1*Y1 + Y1 + C1\n",
    "\n",
    "a = float(input(\"Enter value of X : \"))\n",
    "b = float(input(\"Enter Valeu of Y : \"))\n",
    "\n",
    "print( sess.run( Z1 , feed_dict = {X1 : a , Y1 : b }) )"
   ]
  },
  {
   "cell_type": "markdown",
   "metadata": {},
   "source": [
    "- wriite a program to calculate the distance travelled by an object using equation of motion\n",
    "\n",
    "- s = u*t + (1/2)*a*t^2 \n",
    "\n",
    "- The object started with initial velocity 50m/s and is moving with a constant acceleration of 40 m/s^2 . Time is a variable can be fed at run time by the user "
   ]
  },
  {
   "cell_type": "code",
   "execution_count": null,
   "metadata": {},
   "outputs": [],
   "source": [
    "u = tf.placeholder( tf.float32 )\n",
    "a = tf.placeholder( tf.float32 )\n",
    "t = tf.placeholder( tf.float32 )\n",
    "\n",
    "s = u*t + 0.5*a*t*t\n",
    "\n",
    "time = float(input()) * 60\n",
    "sess.run( s , feed_dict = {u : 50.0 , a : 40.0 , t : time} )"
   ]
  },
  {
   "cell_type": "code",
   "execution_count": null,
   "metadata": {},
   "outputs": [],
   "source": [
    "speed = float( input( ) )\n",
    "u = tf.Variable( speed )\n",
    "a = tf.constant( 40.0 )\n",
    "t = tf.placeholder( tf.float32 )\n",
    "\n",
    "s = u*t + 0.5*a*t*t\n",
    "init_op = tf.global_variables_initializer()\n",
    "sess.run(init_op)\n",
    "\n",
    "time = float(input()) * 60\n",
    "sess.run( s , feed_dict = {t : time} )"
   ]
  },
  {
   "cell_type": "code",
   "execution_count": 17,
   "metadata": {},
   "outputs": [
    {
     "name": "stdout",
     "output_type": "stream",
     "text": [
      "0.4\n"
     ]
    }
   ],
   "source": [
    "a = tf.Variable( 2)\n",
    "b = tf.Variable( 3 )\n",
    "c = tf.divide( a,b)\n",
    "init = tf.global_variables_initializer()\n",
    "sess = tf.Session()\n",
    "sess.run(init)\n",
    "z = c + 10\n",
    "print( sess.run( c , feed_dict = { b : 5 }  ) )\n",
    "# print( sess.run( z ) )\n",
    "sess.close()"
   ]
  },
  {
   "cell_type": "code",
   "execution_count": null,
   "metadata": {},
   "outputs": [],
   "source": [
    "x = tf.Variable( 1000000.0 , name = 'X')\n",
    "cost = x**2 - 10*x + 5 \n",
    "\n",
    "optimizer = tf.train.GradientDescentOptimizer(learning_rate = 0.01)\n",
    "output = optimizer.minimize( cost )\n",
    "\n",
    "init = tf.global_variables_initializer()\n",
    "sess = tf.Session()\n",
    "sess.run(init)\n",
    "\n",
    "for i in range( 1000 ):\n",
    "    sess.run( output )\n",
    "    "
   ]
  },
  {
   "cell_type": "code",
   "execution_count": null,
   "metadata": {},
   "outputs": [],
   "source": [
    "sess.run( x ) \n"
   ]
  },
  {
   "cell_type": "code",
   "execution_count": null,
   "metadata": {},
   "outputs": [],
   "source": []
  },
  {
   "cell_type": "code",
   "execution_count": null,
   "metadata": {},
   "outputs": [],
   "source": [
    "sess.close()"
   ]
  },
  {
   "cell_type": "code",
   "execution_count": 2,
   "metadata": {},
   "outputs": [
    {
     "data": {
      "text/plain": [
       "[]"
      ]
     },
     "execution_count": 2,
     "metadata": {},
     "output_type": "execute_result"
    }
   ],
   "source": [
    "graph = tf.get_default_graph()\n",
    "operation = graph.get_operations()\n",
    "operation"
   ]
  },
  {
   "cell_type": "code",
   "execution_count": 5,
   "metadata": {},
   "outputs": [],
   "source": [
    "import numpy as np"
   ]
  },
  {
   "cell_type": "code",
   "execution_count": 10,
   "metadata": {},
   "outputs": [
    {
     "data": {
      "text/plain": [
       "array([[100, 200, 300],\n",
       "       [400, 500, 600],\n",
       "       [700, 800, 900],\n",
       "       [101, 102, 103],\n",
       "       [104, 105, 106]])"
      ]
     },
     "execution_count": 10,
     "metadata": {},
     "output_type": "execute_result"
    }
   ],
   "source": [
    "A = np.array( '10 20 30 40 50 60 70 80 90 100 5 10 15 20 25 30 35 40 45 50'.split() , dtype = int )\n",
    "A.shape = ( 4 , 5 )\n",
    "\n",
    "B = np.array( '100 200 300 400 500 600 700 800 900 101 102 103 104 105 106'.split() , dtype = int )\n",
    "B.shape = ( 5 , 3  )\n",
    "B"
   ]
  },
  {
   "cell_type": "code",
   "execution_count": 15,
   "metadata": {},
   "outputs": [
    {
     "data": {
      "text/plain": [
       "array([[ 39240,  45330,  51420],\n",
       "       [109490, 130680, 151870],\n",
       "       [ 19620,  22665,  25710],\n",
       "       [ 54745,  65340,  75935]])"
      ]
     },
     "execution_count": 15,
     "metadata": {},
     "output_type": "execute_result"
    }
   ],
   "source": [
    "a = tf.Variable( A , name = 'a' )\n",
    "b = tf.Variable( B , name = 'b')\n",
    "c = tf.matmul( a , b , name = 'multiplication' )\n",
    "sess = tf.Session()\n",
    "init = tf.global_variables_initializer()\n",
    "sess.run( init )\n",
    "sess.run( c )"
   ]
  },
  {
   "cell_type": "code",
   "execution_count": null,
   "metadata": {},
   "outputs": [],
   "source": []
  },
  {
   "cell_type": "code",
   "execution_count": 13,
   "metadata": {},
   "outputs": [
    {
     "data": {
      "text/plain": [
       "[<tf.Operation 'a/initial_value' type=Const>,\n",
       " <tf.Operation 'a' type=VariableV2>,\n",
       " <tf.Operation 'a/Assign' type=Assign>,\n",
       " <tf.Operation 'a/read' type=Identity>,\n",
       " <tf.Operation 'b/initial_value' type=Const>,\n",
       " <tf.Operation 'b' type=VariableV2>,\n",
       " <tf.Operation 'b/Assign' type=Assign>,\n",
       " <tf.Operation 'b/read' type=Identity>,\n",
       " <tf.Operation 'add' type=AddV2>,\n",
       " <tf.Operation 'init' type=NoOp>,\n",
       " <tf.Operation 'a_1/initial_value' type=Const>,\n",
       " <tf.Operation 'a_1' type=VariableV2>,\n",
       " <tf.Operation 'a_1/Assign' type=Assign>,\n",
       " <tf.Operation 'a_1/read' type=Identity>,\n",
       " <tf.Operation 'b_1/initial_value' type=Const>,\n",
       " <tf.Operation 'b_1' type=VariableV2>,\n",
       " <tf.Operation 'b_1/Assign' type=Assign>,\n",
       " <tf.Operation 'b_1/read' type=Identity>,\n",
       " <tf.Operation 'MatMul' type=MatMul>,\n",
       " <tf.Operation 'init_1' type=NoOp>,\n",
       " <tf.Operation 'a_2/initial_value' type=Const>,\n",
       " <tf.Operation 'a_2' type=VariableV2>,\n",
       " <tf.Operation 'a_2/Assign' type=Assign>,\n",
       " <tf.Operation 'a_2/read' type=Identity>,\n",
       " <tf.Operation 'b_2/initial_value' type=Const>,\n",
       " <tf.Operation 'b_2' type=VariableV2>,\n",
       " <tf.Operation 'b_2/Assign' type=Assign>,\n",
       " <tf.Operation 'b_2/read' type=Identity>,\n",
       " <tf.Operation 'multiplication' type=MatMul>,\n",
       " <tf.Operation 'init_2' type=NoOp>]"
      ]
     },
     "execution_count": 13,
     "metadata": {},
     "output_type": "execute_result"
    }
   ],
   "source": [
    "graph.get_operations()"
   ]
  },
  {
   "cell_type": "code",
   "execution_count": null,
   "metadata": {},
   "outputs": [],
   "source": []
  },
  {
   "cell_type": "code",
   "execution_count": null,
   "metadata": {},
   "outputs": [],
   "source": []
  },
  {
   "cell_type": "code",
   "execution_count": null,
   "metadata": {},
   "outputs": [],
   "source": []
  },
  {
   "cell_type": "code",
   "execution_count": null,
   "metadata": {},
   "outputs": [],
   "source": []
  },
  {
   "cell_type": "code",
   "execution_count": 38,
   "metadata": {},
   "outputs": [],
   "source": [
    "weights = tf.Variable( 0.0 , tf.float32 , name = 'weight')\n",
    "bias = tf.Variable( 0.0 , tf.float32  , name = 'bias')\n",
    "x = tf.placeholder( tf.float32 , name = 'X')\n",
    "y = tf.placeholder( tf.float32 , name = 'Y' )\n",
    "pred = weights*x + bias \n",
    "\n",
    "squared = tf.square(  y - pred )\n",
    "loss = tf.reduce_sum( squared )\n",
    "\n",
    "optimizer = tf.train.GradientDescentOptimizer( learning_rate = 0.01 )\n",
    "output = optimizer.minimize( loss )\n",
    "\n",
    "sess = tf.Session()\n",
    "init = tf.global_variables_initializer()\n",
    "\n",
    "sess.run( init )\n",
    "for i in range( 1000 ):\n",
    "    sess.run( output , feed_dict = { x : [1,2,3,4] , y : [10,20,30,40] } )"
   ]
  },
  {
   "cell_type": "code",
   "execution_count": 39,
   "metadata": {},
   "outputs": [
    {
     "name": "stdout",
     "output_type": "stream",
     "text": [
      "9.999993\n",
      "2.0401432e-05\n"
     ]
    }
   ],
   "source": [
    "print( sess.run( weights ) )\n",
    "print( sess.run( bias ) )"
   ]
  },
  {
   "cell_type": "code",
   "execution_count": 25,
   "metadata": {},
   "outputs": [],
   "source": [
    "for i in range( 1000 ):\n",
    "    sess.run( output )"
   ]
  },
  {
   "cell_type": "code",
   "execution_count": 26,
   "metadata": {},
   "outputs": [
    {
     "name": "stdout",
     "output_type": "stream",
     "text": [
      "[6.8753314]\n",
      "[11.01782]\n"
     ]
    }
   ],
   "source": [
    "print( sess.run( weights ) )\n",
    "print( sess.run( bias ) )"
   ]
  },
  {
   "cell_type": "code",
   "execution_count": 31,
   "metadata": {},
   "outputs": [],
   "source": [
    "w = tf.Variable( 0.0 , tf.float32 )\n",
    "b = tf.Variable( 0.0 , tf.float32 )\n",
    "\n",
    "\n",
    "x = tf.placeholder( tf.float32 )\n",
    "y = tf.placeholder( tf.float32 )\n",
    "\n",
    "linear_model = w*x + b  # Linear Equation\n",
    "\n",
    "sess = tf.Session()\n",
    "init_op = tf.global_variables_initializer()\n",
    "sess.run(init_op)\n",
    "\n",
    "# Loss\n",
    "\n",
    "squared = tf.square( linear_model - y )\n",
    "loss = tf.reduce_sum( squared )\n",
    "\n",
    "\n",
    "optimizer = tf.train.GradientDescentOptimizer( 0.01 )\n",
    "\n",
    "train = optimizer.minimize(loss)\n",
    "\n",
    "sess.run(train , { x : [1,2,3,4] , y : [10,20,30,40] } )"
   ]
  },
  {
   "cell_type": "code",
   "execution_count": 32,
   "metadata": {},
   "outputs": [
    {
     "data": {
      "text/plain": [
       "[6.0, 2.0]"
      ]
     },
     "execution_count": 32,
     "metadata": {},
     "output_type": "execute_result"
    }
   ],
   "source": [
    "sess.run([w,b])"
   ]
  },
  {
   "cell_type": "code",
   "execution_count": 33,
   "metadata": {},
   "outputs": [],
   "source": [
    "for i in range(1000):\n",
    "    sess.run(train , { x : [1,2,3,4] , y : [10,20,30,40] } )"
   ]
  },
  {
   "cell_type": "code",
   "execution_count": 34,
   "metadata": {},
   "outputs": [
    {
     "data": {
      "text/plain": [
       "[9.999993, 2.0096257e-05]"
      ]
     },
     "execution_count": 34,
     "metadata": {},
     "output_type": "execute_result"
    }
   ],
   "source": [
    "sess.run([w,b])"
   ]
  },
  {
   "cell_type": "code",
   "execution_count": null,
   "metadata": {},
   "outputs": [],
   "source": [
    "tf.placeholder()"
   ]
  }
 ],
 "metadata": {
  "kernelspec": {
   "display_name": "Python 3",
   "language": "python",
   "name": "python3"
  },
  "language_info": {
   "codemirror_mode": {
    "name": "ipython",
    "version": 3
   },
   "file_extension": ".py",
   "mimetype": "text/x-python",
   "name": "python",
   "nbconvert_exporter": "python",
   "pygments_lexer": "ipython3",
   "version": "3.7.6"
  }
 },
 "nbformat": 4,
 "nbformat_minor": 2
}
