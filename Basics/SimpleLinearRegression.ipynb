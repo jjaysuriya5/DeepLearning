{
 "cells": [
  {
   "cell_type": "code",
   "execution_count": 1,
   "metadata": {},
   "outputs": [],
   "source": [
    "import tensorflow as tf"
   ]
  },
  {
   "cell_type": "code",
   "execution_count": 2,
   "metadata": {},
   "outputs": [],
   "source": [
    "# y = wx + b   >> Simple linear equation "
   ]
  },
  {
   "cell_type": "code",
   "execution_count": 3,
   "metadata": {},
   "outputs": [],
   "source": [
    "w = tf.Variable( [.4] , tf.float32 )\n",
    "b = tf.Variable( [.01] , tf.float32 )\n",
    "\n",
    "x = tf.placeholder( tf.float32 )\n",
    "y = tf.placeholder( tf.float32 )\n",
    "\n",
    "linear_model = w*x + b  # Linear Equation\n",
    "\n",
    "# Loss\n",
    "\n",
    "squared = tf.square( linear_model - y )\n",
    "loss = tf.reduce_sum( squared )"
   ]
  },
  {
   "cell_type": "code",
   "execution_count": 4,
   "metadata": {},
   "outputs": [],
   "source": [
    "sess = tf.Session()\n",
    "init_op = tf.global_variables_initializer()\n",
    "sess.run(init_op)"
   ]
  },
  {
   "cell_type": "code",
   "execution_count": 5,
   "metadata": {},
   "outputs": [
    {
     "data": {
      "text/plain": [
       "35.000404"
      ]
     },
     "execution_count": 5,
     "metadata": {},
     "output_type": "execute_result"
    }
   ],
   "source": [
    "sess.run(loss , feed_dict = { x : [1,2,3,4] , y : [0,-1,-2,-3] } ) # the loss value is not min"
   ]
  },
  {
   "cell_type": "markdown",
   "metadata": {},
   "source": [
    "# We know the value of w = 1 and b = -1 so we manually substitute and find the value "
   ]
  },
  {
   "cell_type": "code",
   "execution_count": 6,
   "metadata": {},
   "outputs": [
    {
     "data": {
      "text/plain": [
       "0.0"
      ]
     },
     "execution_count": 6,
     "metadata": {},
     "output_type": "execute_result"
    }
   ],
   "source": [
    "\n",
    "\n",
    "w = tf.Variable( [-1.0] , tf.float32 )\n",
    "b = tf.Variable( [1.0] , tf.float32 )\n",
    "\n",
    "x = tf.placeholder( tf.float32 )\n",
    "y = tf.placeholder( tf.float32 )\n",
    "\n",
    "linear_model = w*x + b  # Linear Equation\n",
    "\n",
    "sess = tf.Session()\n",
    "init_op = tf.global_variables_initializer()\n",
    "sess.run(init_op)\n",
    "\n",
    "# Loss\n",
    "\n",
    "squared = tf.square( linear_model - y )\n",
    "loss = tf.reduce_sum( squared )\n",
    "\n",
    "sess.run(loss , feed_dict = { x : [1,2,3,4] , y : [0,-1,-2,-3] } ) # the loss value is not min"
   ]
  },
  {
   "cell_type": "markdown",
   "metadata": {},
   "source": [
    "# Now the same aproach we will do with gradient descent , where the algorithm itseld will find the optimal value for w and b"
   ]
  },
  {
   "cell_type": "code",
   "execution_count": 14,
   "metadata": {},
   "outputs": [],
   "source": [
    "w = tf.Variable( [-0.3] , tf.float32 )\n",
    "b = tf.Variable( [0.3] , tf.float32 )\n",
    "\n",
    "\n",
    "x = tf.placeholder( tf.float32 )\n",
    "y = tf.placeholder( tf.float32 )\n",
    "\n",
    "linear_model = w*x + b  # Linear Equation\n",
    "\n",
    "sess = tf.Session()\n",
    "init_op = tf.global_variables_initializer()\n",
    "sess.run(init_op)\n",
    "\n",
    "# Loss\n",
    "\n",
    "squared = tf.square( linear_model - y )\n",
    "loss = tf.reduce_sum( squared )\n",
    "\n",
    "\n",
    "optimizer = tf.train.GradientDescentOptimizer( 0.01 )\n",
    "\n",
    "train = optimizer.minimize(loss)\n",
    "\n",
    "sess.run(train , { x : [1,2,3,4] , y : [0,-1,-2,-3] } )"
   ]
  },
  {
   "cell_type": "code",
   "execution_count": 15,
   "metadata": {},
   "outputs": [
    {
     "data": {
      "text/plain": [
       "[array([-0.58], dtype=float32), array([0.21600002], dtype=float32)]"
      ]
     },
     "execution_count": 15,
     "metadata": {},
     "output_type": "execute_result"
    }
   ],
   "source": [
    "sess.run([w,b])"
   ]
  },
  {
   "cell_type": "code",
   "execution_count": 16,
   "metadata": {},
   "outputs": [],
   "source": [
    "for i in range(1000):\n",
    "    sess.run(train , { x : [1,2,3,4] , y : [0,-1,-2,-3] }  )"
   ]
  },
  {
   "cell_type": "code",
   "execution_count": 17,
   "metadata": {},
   "outputs": [
    {
     "data": {
      "text/plain": [
       "[array([-0.99999833], dtype=float32), array([0.999995], dtype=float32)]"
      ]
     },
     "execution_count": 17,
     "metadata": {},
     "output_type": "execute_result"
    }
   ],
   "source": [
    "sess.run([w,b])"
   ]
  },
  {
   "cell_type": "code",
   "execution_count": 18,
   "metadata": {},
   "outputs": [
    {
     "data": {
      "text/plain": [
       "1.6711965e-11"
      ]
     },
     "execution_count": 18,
     "metadata": {},
     "output_type": "execute_result"
    }
   ],
   "source": [
    "sess.run( loss , { x : [1,2,3,4] , y : [0,-1,-2,-3] } )"
   ]
  },
  {
   "cell_type": "code",
   "execution_count": null,
   "metadata": {},
   "outputs": [],
   "source": []
  }
 ],
 "metadata": {
  "kernelspec": {
   "display_name": "Python 3",
   "language": "python",
   "name": "python3"
  },
  "language_info": {
   "codemirror_mode": {
    "name": "ipython",
    "version": 3
   },
   "file_extension": ".py",
   "mimetype": "text/x-python",
   "name": "python",
   "nbconvert_exporter": "python",
   "pygments_lexer": "ipython3",
   "version": "3.7.6"
  }
 },
 "nbformat": 4,
 "nbformat_minor": 2
}
