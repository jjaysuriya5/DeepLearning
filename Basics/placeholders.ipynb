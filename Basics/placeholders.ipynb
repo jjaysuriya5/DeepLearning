{
 "cells": [
  {
   "cell_type": "code",
   "execution_count": 2,
   "metadata": {},
   "outputs": [],
   "source": [
    "import tensorflow as tf"
   ]
  },
  {
   "cell_type": "code",
   "execution_count": null,
   "metadata": {},
   "outputs": [],
   "source": []
  },
  {
   "cell_type": "code",
   "execution_count": 2,
   "metadata": {},
   "outputs": [
    {
     "data": {
      "text/plain": [
       "'1.15.0'"
      ]
     },
     "execution_count": 2,
     "metadata": {},
     "output_type": "execute_result"
    }
   ],
   "source": [
    "tf.__version__"
   ]
  },
  {
   "cell_type": "code",
   "execution_count": null,
   "metadata": {},
   "outputs": [],
   "source": [
    "# Placholder are never stored , they are initialized runtime and their lifescope is till the session is active"
   ]
  },
  {
   "cell_type": "markdown",
   "metadata": {},
   "source": [
    "### working with scaler"
   ]
  },
  {
   "cell_type": "code",
   "execution_count": 20,
   "metadata": {},
   "outputs": [
    {
     "name": "stdout",
     "output_type": "stream",
     "text": [
      "40.0\n"
     ]
    }
   ],
   "source": [
    "a = tf.placeholder( tf.float32 )\n",
    "b = tf.placeholder( tf.float32 )\n",
    "\n",
    "c = a + b \n",
    "\n",
    "sess = tf.Session()\n",
    "\n",
    "print( sess.run( c , feed_dict = {a : 10 , b : 30 }) )\n",
    "\n",
    "sess.close()"
   ]
  },
  {
   "cell_type": "code",
   "execution_count": 21,
   "metadata": {},
   "outputs": [
    {
     "name": "stdout",
     "output_type": "stream",
     "text": [
      "70.0\n"
     ]
    }
   ],
   "source": [
    "a = tf.placeholder( tf.float32 )\n",
    "b = tf.placeholder( tf.float32 )\n",
    "c = tf.Variable( 30.0 ) # this has to be float else error\n",
    "init_op = tf.global_variables_initializer()\n",
    "\n",
    "c = a + b + c\n",
    "\n",
    "sess = tf.Session()\n",
    "sess.run(init_op)\n",
    "print( sess.run( c , feed_dict = {a : 10 , b : 30 }) )\n",
    "\n",
    "sess.close()"
   ]
  },
  {
   "cell_type": "code",
   "execution_count": 22,
   "metadata": {},
   "outputs": [
    {
     "name": "stdout",
     "output_type": "stream",
     "text": [
      "400.0\n"
     ]
    }
   ],
   "source": [
    "# Multiple calling of tensorflow\n",
    "\n",
    "a = tf.placeholder( tf.float32 )\n",
    "b = tf.placeholder( tf.float32 )\n",
    "\n",
    "c = a + b \n",
    "\n",
    "d = a * c \n",
    "\n",
    "sess = tf.Session()\n",
    "\n",
    "print( sess.run( d , feed_dict = {a : 10 , b : 30 }) )\n",
    "\n",
    "sess.close()"
   ]
  },
  {
   "cell_type": "code",
   "execution_count": 6,
   "metadata": {},
   "outputs": [
    {
     "name": "stdout",
     "output_type": "stream",
     "text": [
      "40.0\n"
     ]
    }
   ],
   "source": [
    "# Multiple calling of tensorflow\n",
    "\n",
    "a = tf.placeholder( tf.float32 )\n",
    "b = tf.placeholder( tf.float32 )\n",
    "\n",
    "c = a + b \n",
    "sess = tf.Session()\n",
    "print( sess.run( c , feed_dict = {a : 10 , b : 30 }) )\n",
    "sess.close()\n",
    "\n",
    "d = a * c \n",
    "\n",
    "sess = tf.Session()\n",
    "\n",
    "# This will throw error as the placeholder has to be initialized every time , you can not leave thinking we initialized for c\n",
    "\n",
    "# print( sess.run( d , feed_dict = {a : 10 }) )  # Uncommend and check\n",
    "\n",
    "sess.close()"
   ]
  },
  {
   "cell_type": "markdown",
   "metadata": {},
   "source": [
    "### Working with Arrays"
   ]
  },
  {
   "cell_type": "code",
   "execution_count": 23,
   "metadata": {},
   "outputs": [
    {
     "name": "stdout",
     "output_type": "stream",
     "text": [
      "[5. 7. 9.]\n"
     ]
    }
   ],
   "source": [
    "a = tf.placeholder( tf.float32 )\n",
    "b = tf.placeholder( tf.float32 )\n",
    "\n",
    "c = a + b \n",
    "\n",
    "sess = tf.Session()\n",
    "print( sess.run( c , feed_dict = {a : [1 , 2 , 3] , b : [4 , 5 , 6] } ) )\n",
    "\n",
    "sess.close()"
   ]
  },
  {
   "cell_type": "code",
   "execution_count": 8,
   "metadata": {},
   "outputs": [
    {
     "name": "stdout",
     "output_type": "stream",
     "text": [
      "[ 4. 10. 18.]\n"
     ]
    }
   ],
   "source": [
    "a = tf.placeholder( tf.float32 )\n",
    "b = tf.placeholder( tf.float32 )\n",
    "\n",
    "c = a * b \n",
    "\n",
    "sess = tf.Session()\n",
    "\n",
    "avalues = [1 , 2 , 3]\n",
    "bvalues = [4 , 5 , 6]\n",
    "\n",
    "print( sess.run( c , feed_dict = {a : avalues , b : bvalues } ) ) # can be stored in a variable passed as an argument\n",
    "\n",
    "sess.close()"
   ]
  },
  {
   "cell_type": "code",
   "execution_count": 9,
   "metadata": {},
   "outputs": [
    {
     "name": "stdout",
     "output_type": "stream",
     "text": [
      "[ 5. 14. 27.]\n"
     ]
    }
   ],
   "source": [
    "a = tf.placeholder( tf.float32 )\n",
    "b = tf.placeholder( tf.float32 )\n",
    "\n",
    "c = a + b \n",
    "\n",
    "d = c * a\n",
    "\n",
    "sess = tf.Session()\n",
    "print( sess.run( d , feed_dict = {a : [1 , 2 , 3] , b : [4 , 5 , 6] } ) )\n",
    "\n",
    "sess.close()\n",
    "\n",
    "sess.close()"
   ]
  },
  {
   "cell_type": "code",
   "execution_count": null,
   "metadata": {},
   "outputs": [],
   "source": []
  }
 ],
 "metadata": {
  "kernelspec": {
   "display_name": "Python 3",
   "language": "python",
   "name": "python3"
  },
  "language_info": {
   "codemirror_mode": {
    "name": "ipython",
    "version": 3
   },
   "file_extension": ".py",
   "mimetype": "text/x-python",
   "name": "python",
   "nbconvert_exporter": "python",
   "pygments_lexer": "ipython3",
   "version": "3.7.6"
  }
 },
 "nbformat": 4,
 "nbformat_minor": 2
}
